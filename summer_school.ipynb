{
  "nbformat": 4,
  "nbformat_minor": 0,
  "metadata": {
    "colab": {
      "name": "summer_school.ipynb",
      "provenance": []
    },
    "kernelspec": {
      "name": "python3",
      "display_name": "Python 3"
    },
    "language_info": {
      "name": "python"
    }
  },
  "cells": [
    {
      "cell_type": "code",
      "metadata": {
        "id": "Uv-RHxlKecap"
      },
      "source": [
        "import pandas as pd\n",
        "import numpy as np\n",
        "import seaborn as sns\n",
        "import scipy.stats as ss"
      ],
      "execution_count": 57,
      "outputs": []
    },
    {
      "cell_type": "code",
      "metadata": {
        "id": "9x8D3cuLkSfs"
      },
      "source": [
        "cohort_size = 1000"
      ],
      "execution_count": 60,
      "outputs": []
    },
    {
      "cell_type": "code",
      "metadata": {
        "id": "C1xrzJgLdxix"
      },
      "source": [
        "smoking_low_bound = (25, 35, 45, 55, 65, 75)\n",
        "smoking_upper_boundary = (34, 44, 54, 64, 74, 85)\n",
        "p_smoking = (19, 22, 16, 12, 15, 11, 6) #19"
      ],
      "execution_count": 79,
      "outputs": []
    },
    {
      "cell_type": "code",
      "metadata": {
        "id": "GXmbS-Q3gVQs"
      },
      "source": [
        "def is_woman_smoking(age):  \n",
        "    i, p_index = 0, 0\n",
        "    sections = list(zip(smoking_low_bound, smoking_upper_bound))\n",
        "\n",
        "    for section in sections:\n",
        "        if section[0] <= age <= section[1]:\n",
        "            p_index = i\n",
        "            break\n",
        "        i += 1\n",
        "    print(p_index)\n",
        "    return ss.bernoulli(p=p_smoking[p_index]/100).rvs()"
      ],
      "execution_count": 88,
      "outputs": []
    },
    {
      "cell_type": "code",
      "metadata": {
        "colab": {
          "base_uri": "https://localhost:8080/"
        },
        "id": "xLw5aCZ-jf-H",
        "outputId": "945d1699-c837-41b8-d6ff-9f60aac439d3"
      },
      "source": [
        "is_woman_smoking(30)"
      ],
      "execution_count": 87,
      "outputs": [
        {
          "output_type": "stream",
          "text": [
            "0\n"
          ],
          "name": "stdout"
        },
        {
          "output_type": "execute_result",
          "data": {
            "text/plain": [
              "1"
            ]
          },
          "metadata": {
            "tags": []
          },
          "execution_count": 87
        }
      ]
    },
    {
      "cell_type": "code",
      "metadata": {
        "id": "6_E9ysLbo3Ds"
      },
      "source": [
        "def create_height():\n",
        "    height = ss.norm(loc=162, scale= 7).rvs()\n",
        "    return int(height)"
      ],
      "execution_count": 106,
      "outputs": []
    },
    {
      "cell_type": "code",
      "metadata": {
        "colab": {
          "base_uri": "https://localhost:8080/"
        },
        "id": "7JmzG0Vtqa3Q",
        "outputId": "e5bae5df-995c-4d58-de73-ef14ace9bdc4"
      },
      "source": [
        "create_height()"
      ],
      "execution_count": 105,
      "outputs": [
        {
          "output_type": "execute_result",
          "data": {
            "text/plain": [
              "156"
            ]
          },
          "metadata": {
            "tags": []
          },
          "execution_count": 105
        }
      ]
    },
    {
      "cell_type": "code",
      "metadata": {
        "id": "tLC5lzA8rMmt"
      },
      "source": [
        "def create_weight():\n",
        "    weight = ss.norm(loc=62, scale=9).rvs()\n",
        "    return int(weight)"
      ],
      "execution_count": 107,
      "outputs": []
    },
    {
      "cell_type": "code",
      "metadata": {
        "colab": {
          "base_uri": "https://localhost:8080/"
        },
        "id": "hQ6HM13jrdQz",
        "outputId": "99244405-62f2-48b8-84bf-bea5e1107ed4"
      },
      "source": [
        "create_weight()"
      ],
      "execution_count": 108,
      "outputs": [
        {
          "output_type": "execute_result",
          "data": {
            "text/plain": [
              "66"
            ]
          },
          "metadata": {
            "tags": []
          },
          "execution_count": 108
        }
      ]
    },
    {
      "cell_type": "code",
      "metadata": {
        "id": "BeiXGAZIuFhI"
      },
      "source": [
        "marriage_low_bound = [25, 30, 35, 40, 45, 50]\n",
        "marriage_upper_bound = [29, 34, 39, 44, 49, 85]\n",
        "p_marriage = [27, 35, 20, 6, 4, 5]"
      ],
      "execution_count": 109,
      "outputs": []
    },
    {
      "cell_type": "code",
      "metadata": {
        "id": "k-EX098zt3Sk"
      },
      "source": [
        "def first_marriage(age):\n",
        "    sections = list(zip(marriage_low_bound, marriage_upper_bound))\n",
        "    p_index, i = 0, 0\n",
        "    for section in sections:\n",
        "        if section[0] <= age <= section[1]:\n",
        "            p_index = i\n",
        "            break\n",
        "        i += 1\n",
        "    marriage_low_bound_loc = marriage_low_bound[:p_index]\n",
        "    marriage_upper_bound_loc = marriage_upper_bound[:p_index]\n",
        "    new_sections = list(zip(marriage_low_bound_loc, marriage_upper_bound_loc))\n",
        "    p_marriage_loc = p_marriage[:p_index]\n"
      ],
      "execution_count": null,
      "outputs": []
    },
    {
      "cell_type": "code",
      "metadata": {
        "id": "jWdgGMe6csSA"
      },
      "source": [
        "class Woman():\n",
        "    def __init__():\n",
        "        self.age = np.random.randint(low=25, high=85)\n",
        "        self.smoking = is_woman_smoking(self.age)\n",
        "        self.height = create_height()\n",
        "        self.weight = create_weight()\n",
        "\n"
      ],
      "execution_count": null,
      "outputs": []
    },
    {
      "cell_type": "code",
      "metadata": {
        "id": "c0CroVYZejvc"
      },
      "source": [
        "age = np.random.randint(100, size=cohort_size)"
      ],
      "execution_count": 34,
      "outputs": []
    },
    {
      "cell_type": "code",
      "metadata": {
        "id": "xqsqx9jGgtOY"
      },
      "source": [
        "age"
      ],
      "execution_count": null,
      "outputs": []
    },
    {
      "cell_type": "code",
      "metadata": {
        "colab": {
          "base_uri": "https://localhost:8080/",
          "height": 282
        },
        "id": "eIZzHhrig0TG",
        "outputId": "c9e90410-2b43-4ae7-d928-7a3f660c76db"
      },
      "source": [
        "sns.histplot(data=age)"
      ],
      "execution_count": 36,
      "outputs": [
        {
          "output_type": "execute_result",
          "data": {
            "text/plain": [
              "<matplotlib.axes._subplots.AxesSubplot at 0x7f8aa2ec54d0>"
            ]
          },
          "metadata": {
            "tags": []
          },
          "execution_count": 36
        },
        {
          "output_type": "display_data",
          "data": {
            "image/png": "[encoded data removed]",
            "text/plain": [
              "<Figure size 432x288 with 1 Axes>"
            ]
          },
          "metadata": {
            "tags": [],
            "needs_background": "light"
          }
        }
      ]
    },
    {
      "cell_type": "code",
      "metadata": {
        "id": "LWvdlVxBhOc1"
      },
      "source": [
        "df =pd.DataFrame(data={'age':age})"
      ],
      "execution_count": 37,
      "outputs": []
    },
    {
      "cell_type": "code",
      "metadata": {
        "colab": {
          "base_uri": "https://localhost:8080/",
          "height": 204
        },
        "id": "ALRtSVXuiA9j",
        "outputId": "5efcfa60-5d11-41ae-8f21-fc108b6196fe"
      },
      "source": [
        "df.head(5)"
      ],
      "execution_count": 38,
      "outputs": [
        {
          "output_type": "execute_result",
          "data": {
            "text/html": [
              "<div>\n",
              "<style scoped>\n",
              "    .dataframe tbody tr th:only-of-type {\n",
              "        vertical-align: middle;\n",
              "    }\n",
              "\n",
              "    .dataframe tbody tr th {\n",
              "        vertical-align: top;\n",
              "    }\n",
              "\n",
              "    .dataframe thead th {\n",
              "        text-align: right;\n",
              "    }\n",
              "</style>\n",
              "<table border=\"1\" class=\"dataframe\">\n",
              "  <thead>\n",
              "    <tr style=\"text-align: right;\">\n",
              "      <th></th>\n",
              "      <th>age</th>\n",
              "    </tr>\n",
              "  </thead>\n",
              "  <tbody>\n",
              "    <tr>\n",
              "      <th>0</th>\n",
              "      <td>80</td>\n",
              "    </tr>\n",
              "    <tr>\n",
              "      <th>1</th>\n",
              "      <td>91</td>\n",
              "    </tr>\n",
              "    <tr>\n",
              "      <th>2</th>\n",
              "      <td>3</td>\n",
              "    </tr>\n",
              "    <tr>\n",
              "      <th>3</th>\n",
              "      <td>67</td>\n",
              "    </tr>\n",
              "    <tr>\n",
              "      <th>4</th>\n",
              "      <td>69</td>\n",
              "    </tr>\n",
              "  </tbody>\n",
              "</table>\n",
              "</div>"
            ],
            "text/plain": [
              "   age\n",
              "0   80\n",
              "1   91\n",
              "2    3\n",
              "3   67\n",
              "4   69"
            ]
          },
          "metadata": {
            "tags": []
          },
          "execution_count": 38
        }
      ]
    },
    {
      "cell_type": "code",
      "metadata": {
        "id": "6nwxXBOlin9e"
      },
      "source": [
        "smoking = np.zeros(cohort_size)"
      ],
      "execution_count": 39,
      "outputs": []
    },
    {
      "cell_type": "code",
      "metadata": {
        "id": "OiWihiEqk0zW"
      },
      "source": [
        "smoking"
      ],
      "execution_count": null,
      "outputs": []
    },
    {
      "cell_type": "code",
      "metadata": {
        "id": "jhDQSRWfk2hp"
      },
      "source": [
        "j = 0\n",
        "for i in age:\n",
        "\n",
        "    if i < 16:\n",
        "        j += 1\n",
        "        continue\n",
        "\n",
        "    elif 16 <= i <= 24:\n",
        "        p = np.random.randint(100, size=1)\n",
        "        if p <= 19:\n",
        "            smoking[j] = 1\n",
        "        j += 1\n",
        "        continue\n",
        "    \n",
        "    elif 25 <= i <= 34:\n",
        "        p = np.random.randint(100, size=1)\n",
        "        if p <= 22:\n",
        "            smoking[j] = 1\n",
        "        j += 1\n",
        "        continue\n",
        "    \n",
        "    elif 35 <= i <= 44:\n",
        "        p = np.random.randint(100, size=1)\n",
        "        if p <= 16:\n",
        "            smoking[j] = 1\n",
        "        j += 1\n",
        "        continue\n",
        "\n",
        "    elif 45 <= i <= 54:\n",
        "        p = np.random.randint(100, size=1)\n",
        "        if p <= 12:\n",
        "            smoking[j] = 1\n",
        "        j += 1\n",
        "        continue\n",
        "\n",
        "    elif 55 <= i <= 64:\n",
        "        p = np.random.randint(100, size=1)\n",
        "        if p <= 15:\n",
        "            smoking[j] = 1\n",
        "        j += 1\n",
        "        continue\n",
        "\n",
        "    elif 65 <= i <= 74:\n",
        "        p = np.random.randint(100, size=1)\n",
        "        if p <= 11:\n",
        "            smoking[j] = 1\n",
        "        j += 1\n",
        "        continue\n",
        "\n",
        "    elif 75 <= i:\n",
        "        p = np.random.randint(100, size=1)\n",
        "        if p <= 6:\n",
        "            smoking[j] = 1\n",
        "        j += 1\n",
        "        continue\n"
      ],
      "execution_count": 41,
      "outputs": []
    },
    {
      "cell_type": "code",
      "metadata": {
        "colab": {
          "base_uri": "https://localhost:8080/"
        },
        "id": "55GJGmYlnG_R",
        "outputId": "a3924e42-dfcd-4005-a941-3561db7cc245"
      },
      "source": [
        "smoking"
      ],
      "execution_count": 42,
      "outputs": [
        {
          "output_type": "execute_result",
          "data": {
            "text/plain": [
              "array([0., 0., 0., 0., 0., 0., 0., 0., 0., 0., 0., 0., 0., 0., 0., 0., 0.,\n",
              "       0., 0., 0., 0., 0., 0., 0., 0., 0., 0., 0., 1., 0., 0., 0., 0., 0.,\n",
              "       0., 0., 0., 0., 0., 0., 0., 1., 0., 0., 0., 0., 0., 0., 0., 0., 0.,\n",
              "       0., 1., 0., 0., 0., 0., 0., 0., 0., 0., 0., 0., 1., 0., 0., 0., 1.,\n",
              "       0., 0., 0., 0., 0., 0., 0., 0., 0., 0., 0., 0., 0., 0., 0., 0., 0.,\n",
              "       0., 0., 0., 0., 0., 0., 0., 0., 0., 0., 0., 0., 1., 0., 0., 0., 0.,\n",
              "       0., 0., 0., 0., 0., 0., 0., 0., 0., 0., 0., 0., 0., 0., 0., 0., 0.,\n",
              "       0., 0., 0., 1., 1., 0., 0., 0., 0., 0., 0., 0., 0., 0., 0., 0., 1.,\n",
              "       0., 1., 0., 0., 0., 0., 0., 0., 0., 0., 0., 0., 0., 0., 0., 0., 0.,\n",
              "       0., 1., 1., 1., 0., 0., 0., 0., 0., 0., 0., 0., 0., 0., 0., 0., 0.,\n",
              "       0., 0., 0., 0., 0., 0., 0., 0., 0., 0., 1., 0., 0., 0., 0., 1., 0.,\n",
              "       0., 0., 0., 0., 0., 1., 0., 1., 0., 0., 0., 0., 0., 0., 0., 0., 0.,\n",
              "       0., 0., 0., 0., 0., 0., 0., 0., 0., 0., 0., 0., 0., 0., 0., 0., 0.,\n",
              "       0., 0., 0., 0., 0., 1., 0., 0., 0., 0., 0., 1., 0., 0., 0., 0., 0.,\n",
              "       0., 0., 0., 1., 1., 0., 0., 0., 0., 1., 0., 0., 0., 0., 0., 1., 0.,\n",
              "       1., 0., 0., 0., 0., 0., 0., 0., 1., 0., 0., 1., 0., 0., 1., 0., 0.,\n",
              "       0., 0., 0., 0., 0., 0., 0., 0., 0., 0., 0., 0., 0., 0., 0., 0., 0.,\n",
              "       0., 0., 0., 0., 0., 0., 0., 0., 0., 0., 0., 1., 0., 1., 0., 0., 0.,\n",
              "       0., 0., 0., 0., 0., 0., 0., 0., 0., 0., 1., 0., 0., 0., 0., 1., 0.,\n",
              "       0., 0., 0., 0., 0., 0., 0., 0., 1., 0., 0., 0., 0., 0., 0., 1., 0.,\n",
              "       0., 0., 0., 0., 0., 0., 0., 0., 0., 0., 0., 0., 0., 0., 0., 0., 1.,\n",
              "       0., 0., 0., 0., 0., 0., 0., 0., 0., 0., 0., 0., 0., 0., 0., 0., 0.,\n",
              "       0., 0., 0., 1., 0., 0., 1., 1., 0., 0., 0., 1., 0., 1., 0., 0., 0.,\n",
              "       0., 0., 0., 0., 0., 0., 0., 0., 0., 0., 0., 0., 0., 0., 0., 0., 0.,\n",
              "       0., 0., 0., 0., 0., 0., 0., 0., 0., 0., 0., 0., 0., 0., 0., 1., 0.,\n",
              "       0., 0., 0., 0., 0., 0., 0., 0., 0., 0., 0., 1., 0., 0., 0., 0., 0.,\n",
              "       0., 1., 0., 0., 1., 0., 1., 0., 0., 0., 0., 0., 1., 1., 0., 0., 0.,\n",
              "       0., 0., 0., 0., 0., 0., 0., 0., 0., 0., 0., 0., 0., 0., 0., 0., 0.,\n",
              "       0., 0., 0., 0., 0., 0., 0., 0., 0., 0., 0., 1., 0., 0., 0., 0., 0.,\n",
              "       0., 0., 1., 0., 0., 0., 0., 0., 0., 0., 0., 0., 0., 0., 0., 0., 0.,\n",
              "       0., 1., 0., 0., 0., 1., 0., 0., 0., 0., 0., 0., 0., 0., 0., 0., 0.,\n",
              "       0., 0., 0., 0., 0., 0., 0., 0., 0., 0., 0., 0., 0., 0., 0., 0., 1.,\n",
              "       0., 0., 0., 0., 0., 0., 0., 0., 0., 0., 0., 0., 0., 0., 0., 0., 0.,\n",
              "       0., 0., 0., 0., 0., 0., 0., 0., 1., 0., 0., 0., 0., 0., 0., 0., 0.,\n",
              "       1., 0., 0., 0., 0., 0., 0., 0., 0., 0., 0., 0., 0., 0., 1., 0., 0.,\n",
              "       0., 0., 0., 0., 0., 0., 0., 0., 0., 0., 0., 1., 1., 1., 0., 0., 1.,\n",
              "       0., 0., 0., 0., 0., 0., 0., 0., 0., 0., 0., 0., 1., 0., 0., 0., 0.,\n",
              "       0., 0., 0., 0., 1., 0., 0., 0., 0., 1., 0., 0., 0., 0., 0., 1., 0.,\n",
              "       0., 0., 0., 0., 0., 0., 0., 0., 1., 0., 0., 0., 0., 0., 0., 0., 0.,\n",
              "       0., 0., 1., 0., 0., 0., 0., 0., 1., 0., 0., 0., 0., 0., 0., 0., 0.,\n",
              "       0., 0., 0., 0., 0., 0., 0., 1., 0., 0., 0., 0., 0., 0., 1., 0., 0.,\n",
              "       0., 0., 0., 0., 0., 0., 0., 0., 0., 0., 0., 0., 0., 0., 1., 0., 0.,\n",
              "       0., 0., 0., 0., 0., 0., 0., 0., 0., 0., 0., 0., 0., 0., 0., 0., 0.,\n",
              "       0., 0., 1., 0., 0., 0., 0., 0., 0., 0., 0., 0., 0., 0., 0., 0., 0.,\n",
              "       0., 0., 0., 0., 0., 0., 0., 0., 0., 0., 0., 0., 0., 0., 0., 0., 0.,\n",
              "       0., 0., 0., 0., 0., 0., 0., 0., 0., 0., 0., 0., 1., 0., 0., 0., 0.,\n",
              "       0., 0., 0., 0., 0., 0., 0., 0., 0., 1., 0., 0., 0., 0., 0., 0., 0.,\n",
              "       0., 0., 0., 1., 0., 0., 0., 0., 1., 0., 0., 0., 1., 0., 0., 0., 0.,\n",
              "       0., 0., 0., 0., 1., 0., 0., 0., 0., 0., 0., 1., 0., 0., 0., 0., 0.,\n",
              "       0., 0., 1., 0., 0., 0., 0., 0., 0., 0., 0., 1., 0., 0., 0., 0., 0.,\n",
              "       0., 0., 0., 0., 0., 0., 1., 0., 0., 1., 0., 0., 1., 0., 0., 0., 0.,\n",
              "       0., 0., 0., 0., 0., 0., 0., 1., 0., 0., 1., 1., 0., 0., 0., 0., 0.,\n",
              "       0., 0., 1., 0., 0., 0., 0., 0., 0., 0., 0., 1., 0., 0., 1., 0., 0.,\n",
              "       0., 0., 0., 1., 0., 0., 0., 0., 1., 0., 0., 0., 0., 0., 0., 0., 0.,\n",
              "       0., 0., 0., 0., 0., 0., 0., 1., 0., 0., 0., 0., 0., 0., 0., 0., 1.,\n",
              "       0., 0., 0., 0., 0., 0., 0., 0., 0., 0., 1., 0., 0., 0., 0., 0., 0.,\n",
              "       0., 0., 1., 0., 0., 0., 0., 0., 0., 0., 0., 0., 0., 1., 0., 0., 0.,\n",
              "       0., 0., 0., 0., 0., 0., 0., 0., 1., 0., 0., 0., 1., 1., 0., 1., 1.,\n",
              "       0., 0., 0., 1., 0., 0., 0., 0., 0., 0., 0., 1., 0., 0.])"
            ]
          },
          "metadata": {
            "tags": []
          },
          "execution_count": 42
        }
      ]
    },
    {
      "cell_type": "code",
      "metadata": {
        "id": "BgEET0GGneKO"
      },
      "source": [
        "df['smoking'] = smoking"
      ],
      "execution_count": 43,
      "outputs": []
    },
    {
      "cell_type": "code",
      "metadata": {
        "colab": {
          "base_uri": "https://localhost:8080/",
          "height": 204
        },
        "id": "WH_xjCiEnlZD",
        "outputId": "34a4ce6b-498d-4f73-89d9-33a70d65c890"
      },
      "source": [
        "df.head(5)"
      ],
      "execution_count": 44,
      "outputs": [
        {
          "output_type": "execute_result",
          "data": {
            "text/html": [
              "<div>\n",
              "<style scoped>\n",
              "    .dataframe tbody tr th:only-of-type {\n",
              "        vertical-align: middle;\n",
              "    }\n",
              "\n",
              "    .dataframe tbody tr th {\n",
              "        vertical-align: top;\n",
              "    }\n",
              "\n",
              "    .dataframe thead th {\n",
              "        text-align: right;\n",
              "    }\n",
              "</style>\n",
              "<table border=\"1\" class=\"dataframe\">\n",
              "  <thead>\n",
              "    <tr style=\"text-align: right;\">\n",
              "      <th></th>\n",
              "      <th>age</th>\n",
              "      <th>smoking</th>\n",
              "    </tr>\n",
              "  </thead>\n",
              "  <tbody>\n",
              "    <tr>\n",
              "      <th>0</th>\n",
              "      <td>80</td>\n",
              "      <td>0.0</td>\n",
              "    </tr>\n",
              "    <tr>\n",
              "      <th>1</th>\n",
              "      <td>91</td>\n",
              "      <td>0.0</td>\n",
              "    </tr>\n",
              "    <tr>\n",
              "      <th>2</th>\n",
              "      <td>3</td>\n",
              "      <td>0.0</td>\n",
              "    </tr>\n",
              "    <tr>\n",
              "      <th>3</th>\n",
              "      <td>67</td>\n",
              "      <td>0.0</td>\n",
              "    </tr>\n",
              "    <tr>\n",
              "      <th>4</th>\n",
              "      <td>69</td>\n",
              "      <td>0.0</td>\n",
              "    </tr>\n",
              "  </tbody>\n",
              "</table>\n",
              "</div>"
            ],
            "text/plain": [
              "   age  smoking\n",
              "0   80      0.0\n",
              "1   91      0.0\n",
              "2    3      0.0\n",
              "3   67      0.0\n",
              "4   69      0.0"
            ]
          },
          "metadata": {
            "tags": []
          },
          "execution_count": 44
        }
      ]
    },
    {
      "cell_type": "code",
      "metadata": {
        "id": "FCyP2gDUn81k"
      },
      "source": [
        "first_marriage = np.zeros(cohort_size)"
      ],
      "execution_count": 51,
      "outputs": []
    },
    {
      "cell_type": "code",
      "metadata": {
        "id": "Nvq0qJOgtVSw"
      },
      "source": [
        "first_marriage"
      ],
      "execution_count": null,
      "outputs": []
    },
    {
      "cell_type": "code",
      "metadata": {
        "id": "ZYsVROW_ts1c"
      },
      "source": [
        "j = 0\n",
        "for i in age:\n",
        "\n",
        "    if i < 18:\n",
        "        if np.random.randint(100) <= 1:\n",
        "            first_marriage[j] = 17\n",
        "        j += 1\n",
        "    \n",
        "    elif 18 <= i <= 19:\n",
        "        # if np.random.randint(100) <= 4:\n",
        "        if np.random.randint(100) <= 5:\n",
        "            first_marriage[j] = np.random.randint(low=18, high=20)\n",
        "        j += 1\n",
        "    \n",
        "    elif 20 <= i <= 24:\n",
        "        # if np.random.randint(100) <= 20:\n",
        "        if np.random.randint(100) <= 25:\n",
        "            first_marriage[j] = np.random.randint(low=20, high=25)\n",
        "        j += 1\n",
        "    \n",
        "    elif 25 <= i <= 29:\n",
        "        if np.random.randint(100) <= 60:\n",
        "            first_marriage[j] = np.random.randint(low=25, high=30)\n",
        "        j += 1\n",
        "    \n",
        "    elif 30 <= i <= 34:\n",
        "        if np.random.randint(100) <= 20:\n",
        "            first_marriage[j] = np.random.randint(low=30, high=35)\n",
        "        j += 1\n",
        "    \n",
        "    elif 35 <= i <= 39:\n",
        "        if np.random.randint(100) <= 9:\n",
        "            first_marriage[j] = np.random.randint(low=35, high=40)\n",
        "        j += 1\n",
        "\n",
        "    elif 40 <= i <= 44:\n",
        "        if np.random.randint(100) <= 4:\n",
        "            first_marriage[j] = np.random.randint(low=40, high=45)\n",
        "        j += 1\n",
        "\n",
        "    elif 45 <= i <= 49:\n",
        "        if np.random.randint(100) <= 2:\n",
        "            first_marriage[j] = np.random.randint(low=45, high=50)\n",
        "        j += 1\n",
        "\n",
        "    elif 50 <= i:\n",
        "        if np.random.randint(100) <= 5:\n",
        "            first_marriage[j] = np.random.randint(low=50, high=100)\n",
        "        j += 1\n"
      ],
      "execution_count": 54,
      "outputs": []
    },
    {
      "cell_type": "code",
      "metadata": {
        "colab": {
          "base_uri": "https://localhost:8080/"
        },
        "id": "yHwu3K0MjkJX",
        "outputId": "a0b17756-a092-4e0a-ef7f-9f288d35900f"
      },
      "source": [
        "first_marriage"
      ],
      "execution_count": 55,
      "outputs": [
        {
          "output_type": "execute_result",
          "data": {
            "text/plain": [
              "array([85.,  0.,  0.,  0.,  0., 33.,  0., 67.,  0.,  0.,  0.,  0.,  0.,\n",
              "        0.,  0.,  0.,  0.,  0., 24.,  0.,  0.,  0.,  0.,  0.,  0., 20.,\n",
              "        0.,  0.,  0.,  0.,  0.,  0., 29.,  0.,  0.,  0., 28.,  0., 27.,\n",
              "        0., 43.,  0.,  0.,  0.,  0.,  0.,  0.,  0.,  0.,  0.,  0., 29.,\n",
              "        0.,  0.,  0.,  0.,  0.,  0.,  0.,  0.,  0.,  0.,  0.,  0.,  0.,\n",
              "        0.,  0., 29.,  0.,  0.,  0.,  0., 35.,  0., 51.,  0.,  0.,  0.,\n",
              "        0.,  0., 50., 22.,  0.,  0., 89.,  0.,  0.,  0.,  0.,  0., 23.,\n",
              "        0., 45.,  0.,  0.,  0.,  0.,  0.,  0.,  0.,  0.,  0.,  0., 26.,\n",
              "        0.,  0., 23.,  0.,  0.,  0.,  0.,  0.,  0.,  0.,  0.,  0.,  0.,\n",
              "        0., 26.,  0.,  0.,  0., 32.,  0.,  0.,  0., 28.,  0.,  0.,  0.,\n",
              "        0.,  0.,  0.,  0.,  0., 28.,  0., 26.,  0.,  0.,  0., 90., 67.,\n",
              "        0.,  0.,  0., 24.,  0.,  0.,  0.,  0.,  0.,  0.,  0.,  0.,  0.,\n",
              "        0.,  0.,  0.,  0., 30.,  0.,  0.,  0.,  0.,  0.,  0.,  0.,  0.,\n",
              "        0.,  0.,  0.,  0., 85.,  0.,  0., 28.,  0.,  0., 25.,  0.,  0.,\n",
              "        0.,  0.,  0.,  0.,  0.,  0.,  0.,  0.,  0.,  0.,  0.,  0., 34.,\n",
              "       79.,  0., 48.,  0.,  0.,  0.,  0.,  0.,  0.,  0.,  0.,  0.,  0.,\n",
              "        0.,  0.,  0.,  0.,  0.,  0.,  0., 64.,  0.,  0.,  0.,  0.,  0.,\n",
              "        0.,  0.,  0.,  0.,  0.,  0.,  0., 33.,  0.,  0.,  0.,  0.,  0.,\n",
              "        0., 60.,  0., 21., 52.,  0.,  0.,  0., 29.,  0.,  0.,  0.,  0.,\n",
              "       22.,  0.,  0.,  0.,  0.,  0.,  0.,  0., 26., 27.,  0.,  0.,  0.,\n",
              "        0., 87.,  0.,  0., 37.,  0.,  0.,  0.,  0.,  0.,  0.,  0.,  0.,\n",
              "        0.,  0.,  0.,  0.,  0.,  0.,  0.,  0., 18.,  0.,  0.,  0.,  0.,\n",
              "        0.,  0.,  0.,  0.,  0., 45.,  0.,  0.,  0.,  0.,  0., 18.,  0.,\n",
              "        0.,  0.,  0.,  0.,  0.,  0.,  0.,  0.,  0., 29.,  0.,  0.,  0.,\n",
              "        0.,  0.,  0.,  0.,  0.,  0.,  0.,  0., 21., 20.,  0.,  0., 38.,\n",
              "        0.,  0.,  0.,  0.,  0.,  0., 21.,  0.,  0.,  0.,  0.,  0., 99.,\n",
              "        0.,  0.,  0.,  0., 34.,  0.,  0.,  0.,  0.,  0.,  0.,  0.,  0.,\n",
              "       26.,  0.,  0.,  0.,  0.,  0.,  0.,  0., 29.,  0.,  0.,  0.,  0.,\n",
              "        0.,  0., 20.,  0.,  0.,  0.,  0.,  0., 23.,  0.,  0.,  0.,  0.,\n",
              "       29.,  0.,  0.,  0.,  0.,  0.,  0.,  0., 24.,  0., 85.,  0.,  0.,\n",
              "       18.,  0.,  0.,  0.,  0., 31.,  0.,  0.,  0., 25.,  0.,  0., 30.,\n",
              "        0.,  0.,  0.,  0.,  0.,  0.,  0., 83.,  0.,  0.,  0., 32.,  0.,\n",
              "        0.,  0.,  0.,  0.,  0., 96.,  0., 27.,  0.,  0.,  0.,  0., 21.,\n",
              "        0.,  0., 26.,  0.,  0.,  0.,  0.,  0.,  0., 35.,  0.,  0., 91.,\n",
              "       34.,  0.,  0.,  0.,  0.,  0.,  0.,  0.,  0.,  0.,  0.,  0.,  0.,\n",
              "        0., 26.,  0., 31.,  0.,  0., 29.,  0.,  0.,  0., 86.,  0., 18.,\n",
              "        0.,  0.,  0.,  0., 25.,  0.,  0.,  0.,  0., 60.,  0.,  0.,  0.,\n",
              "        0.,  0.,  0.,  0.,  0.,  0.,  0.,  0.,  0.,  0.,  0.,  0.,  0.,\n",
              "        0.,  0., 33.,  0.,  0.,  0.,  0.,  0.,  0.,  0.,  0., 25.,  0.,\n",
              "        0.,  0.,  0.,  0., 34.,  0., 46.,  0.,  0.,  0.,  0.,  0., 26.,\n",
              "        0., 27.,  0.,  0.,  0.,  0.,  0.,  0.,  0.,  0.,  0.,  0.,  0.,\n",
              "        0.,  0.,  0.,  0.,  0.,  0.,  0.,  0.,  0.,  0., 24.,  0.,  0.,\n",
              "        0.,  0.,  0.,  0.,  0.,  0., 22.,  0., 56.,  0.,  0.,  0.,  0.,\n",
              "        0.,  0.,  0.,  0.,  0.,  0.,  0.,  0.,  0.,  0.,  0.,  0.,  0.,\n",
              "       27.,  0., 27.,  0.,  0.,  0.,  0.,  0.,  0., 77.,  0.,  0.,  0.,\n",
              "        0., 81.,  0.,  0., 26., 34., 68.,  0.,  0., 25.,  0.,  0.,  0.,\n",
              "        0.,  0., 80.,  0.,  0.,  0., 74., 31.,  0.,  0., 39., 25., 29.,\n",
              "        0., 99.,  0.,  0.,  0.,  0.,  0.,  0.,  0., 21.,  0.,  0., 28.,\n",
              "        0., 29., 37.,  0., 85., 20.,  0.,  0., 35.,  0.,  0.,  0.,  0.,\n",
              "        0.,  0.,  0.,  0.,  0.,  0.,  0.,  0.,  0.,  0.,  0.,  0.,  0.,\n",
              "       63.,  0.,  0.,  0., 33., 66.,  0., 32.,  0.,  0., 26.,  0.,  0.,\n",
              "        0.,  0.,  0.,  0., 95.,  0., 21., 27.,  0.,  0.,  0., 34.,  0.,\n",
              "        0.,  0.,  0., 79.,  0.,  0.,  0.,  0.,  0.,  0.,  0.,  0.,  0.,\n",
              "        0.,  0.,  0., 78.,  0.,  0.,  0.,  0.,  0.,  0.,  0.,  0.,  0.,\n",
              "        0.,  0.,  0.,  0.,  0.,  0.,  0.,  0.,  0.,  0.,  0.,  0.,  0.,\n",
              "        0., 27., 26.,  0.,  0.,  0., 80.,  0., 34.,  0.,  0., 18.,  0.,\n",
              "        0.,  0.,  0.,  0.,  0.,  0., 18.,  0., 30.,  0.,  0.,  0.,  0.,\n",
              "        0., 46., 67.,  0.,  0., 22., 27.,  0.,  0.,  0.,  0.,  0.,  0.,\n",
              "        0.,  0.,  0.,  0.,  0.,  0.,  0.,  0.,  0.,  0.,  0., 24., 23.,\n",
              "        0.,  0.,  0., 18.,  0.,  0.,  0.,  0.,  0.,  0.,  0.,  0.,  0.,\n",
              "       54.,  0.,  0.,  0.,  0.,  0.,  0.,  0.,  0., 67.,  0., 90.,  0.,\n",
              "        0.,  0.,  0., 23.,  0.,  0.,  0.,  0.,  0.,  0.,  0.,  0.,  0.,\n",
              "        0.,  0.,  0., 38.,  0.,  0.,  0.,  0.,  0.,  0.,  0.,  0.,  0.,\n",
              "        0.,  0.,  0., 87., 68.,  0.,  0.,  0.,  0., 49.,  0.,  0.,  0.,\n",
              "        0., 78., 28.,  0.,  0.,  0.,  0.,  0., 26.,  0.,  0.,  0.,  0.,\n",
              "        0., 28., 81.,  0.,  0.,  0.,  0.,  0.,  0.,  0.,  0.,  0.,  0.,\n",
              "        0.,  0.,  0., 22.,  0.,  0., 25.,  0.,  0.,  0.,  0., 89.,  0.,\n",
              "        0.,  0.,  0.,  0.,  0.,  0.,  0., 30.,  0.,  0., 38.,  0., 93.,\n",
              "        0.,  0.,  0.,  0.,  0., 24.,  0.,  0.,  0.,  0.,  0.,  0.,  0.,\n",
              "        0.,  0.,  0.,  0.,  0.,  0.,  0.,  0.,  0.,  0.,  0.,  0.,  0.,\n",
              "       83.,  0.,  0.,  0.,  0.,  0.,  0.,  0.,  0.,  0.,  0., 65.,  0.,\n",
              "        0.,  0.,  0., 18.,  0.,  0.,  0.,  0.,  0.,  0.,  0.,  0.,  0.,\n",
              "        0.,  0., 27.,  0.,  0.,  0.,  0.,  0.,  0.,  0.,  0.,  0.,  0.,\n",
              "        0.,  0.,  0.,  0.,  0.,  0.,  0., 62.,  0., 25.,  0.,  0.,  0.,\n",
              "        0.,  0.,  0., 41.,  0.,  0.,  0.,  0.,  0.,  0.,  0.,  0.,  0.,\n",
              "        0.,  0.,  0.,  0.,  0.,  0.,  0., 27.,  0.,  0.,  0.,  0., 55.,\n",
              "        0., 22., 29.,  0.,  0.,  0.,  0.,  0.,  0.,  0.,  0., 33.])"
            ]
          },
          "metadata": {
            "tags": []
          },
          "execution_count": 55
        }
      ]
    },
    {
      "cell_type": "code",
      "metadata": {
        "colab": {
          "base_uri": "https://localhost:8080/"
        },
        "id": "ryCbPFzmigg4",
        "outputId": "45e05e0a-9a0d-41cf-da9c-53db8cec2c6b"
      },
      "source": [
        "5 + 2 + 4 + 9 + 20 + 35 + 20 + 4 + 1"
      ],
      "execution_count": 31,
      "outputs": [
        {
          "output_type": "execute_result",
          "data": {
            "text/plain": [
              "100"
            ]
          },
          "metadata": {
            "tags": []
          },
          "execution_count": 31
        }
      ]
    }
  ]
}
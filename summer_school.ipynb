{
  "nbformat": 4,
  "nbformat_minor": 0,
  "metadata": {
    "colab": {
      "name": "summer_school.ipynb",
      "provenance": []
    },
    "kernelspec": {
      "name": "python3",
      "display_name": "Python 3"
    },
    "language_info": {
      "name": "python"
    }
  },
  "cells": [
    {
      "cell_type": "code",
      "metadata": {
        "id": "Uv-RHxlKecap"
      },
      "source": [
        "import pandas as pd\n",
        "import numpy as np\n",
        "import seaborn as sns\n",
        "import scipy.stats as ss"
      ],
      "execution_count": 113,
      "outputs": []
    },
    {
      "cell_type": "code",
      "metadata": {
        "id": "9x8D3cuLkSfs"
      },
      "source": [
        "cohort_size = 1000"
      ],
      "execution_count": 119,
      "outputs": []
    },
    {
      "cell_type": "code",
      "metadata": {
        "id": "C1xrzJgLdxix"
      },
      "source": [
        "smoking_low_bound = (25, 35, 45, 55, 65, 75)\n",
        "smoking_upper_bound = (34, 44, 54, 64, 74, 85)\n",
        "p_smoking = (19, 22, 16, 12, 15, 11, 6) #19"
      ],
      "execution_count": 120,
      "outputs": []
    },
    {
      "cell_type": "code",
      "metadata": {
        "id": "GXmbS-Q3gVQs"
      },
      "source": [
        "def is_woman_smoking(age):  \n",
        "    i, p_index = 0, 0\n",
        "    sections = list(zip(smoking_low_bound, smoking_upper_bound))\n",
        "\n",
        "    for section in sections:\n",
        "        if section[0] <= age <= section[1]:\n",
        "            p_index = i\n",
        "            break\n",
        "        i += 1\n",
        "    # print(p_index)\n",
        "    return ss.bernoulli(p=p_smoking[p_index]/100).rvs()"
      ],
      "execution_count": 302,
      "outputs": []
    },
    {
      "cell_type": "code",
      "metadata": {
        "colab": {
          "base_uri": "https://localhost:8080/"
        },
        "id": "xLw5aCZ-jf-H",
        "outputId": "1b2990fc-24b5-4348-81f8-3309e4585d47"
      },
      "source": [
        "is_woman_smoking(30)"
      ],
      "execution_count": 122,
      "outputs": [
        {
          "output_type": "stream",
          "text": [
            "0\n"
          ],
          "name": "stdout"
        },
        {
          "output_type": "execute_result",
          "data": {
            "text/plain": [
              "0"
            ]
          },
          "metadata": {
            "tags": []
          },
          "execution_count": 122
        }
      ]
    },
    {
      "cell_type": "code",
      "metadata": {
        "id": "6_E9ysLbo3Ds"
      },
      "source": [
        "def create_height():\n",
        "    height = ss.norm(loc=162, scale= 7).rvs()\n",
        "    return int(height)"
      ],
      "execution_count": 123,
      "outputs": []
    },
    {
      "cell_type": "code",
      "metadata": {
        "colab": {
          "base_uri": "https://localhost:8080/"
        },
        "id": "7JmzG0Vtqa3Q",
        "outputId": "655a49de-6f74-4b39-b5c9-add90f082e52"
      },
      "source": [
        "create_height()"
      ],
      "execution_count": 124,
      "outputs": [
        {
          "output_type": "execute_result",
          "data": {
            "text/plain": [
              "163"
            ]
          },
          "metadata": {
            "tags": []
          },
          "execution_count": 124
        }
      ]
    },
    {
      "cell_type": "code",
      "metadata": {
        "id": "tLC5lzA8rMmt"
      },
      "source": [
        "def create_weight():\n",
        "    weight = ss.norm(loc=62, scale=9).rvs()\n",
        "    return int(weight)"
      ],
      "execution_count": 125,
      "outputs": []
    },
    {
      "cell_type": "code",
      "metadata": {
        "colab": {
          "base_uri": "https://localhost:8080/"
        },
        "id": "hQ6HM13jrdQz",
        "outputId": "d2aff112-49fb-4ae9-bfe5-1e639d6e0faa"
      },
      "source": [
        "create_weight()"
      ],
      "execution_count": 126,
      "outputs": [
        {
          "output_type": "execute_result",
          "data": {
            "text/plain": [
              "63"
            ]
          },
          "metadata": {
            "tags": []
          },
          "execution_count": 126
        }
      ]
    },
    {
      "cell_type": "code",
      "metadata": {
        "id": "BeiXGAZIuFhI"
      },
      "source": [
        "marriage_low_bound = [25, 30, 35, 40, 45, 50]\n",
        "marriage_upper_bound = [29, 34, 39, 44, 49, 85]\n",
        "p_marriage = [27, 35, 20, 6, 4, 5]\n",
        "p_ever_married = [0.7, 0.8, 0.87, 0.9, 0.92, 0.95]"
      ],
      "execution_count": 204,
      "outputs": []
    },
    {
      "cell_type": "code",
      "metadata": {
        "id": "k-EX098zt3Sk"
      },
      "source": [
        "def first_marriage(age):\n",
        "\n",
        "    index_list = [0, 1, 2, 3, 4, 5]\n",
        "\n",
        "    sections = list(zip(marriage_low_bound, marriage_upper_bound))\n",
        "    p_index, i = 0, 0\n",
        "    for section in sections:\n",
        "        if section[0] <= age <= section[1]:\n",
        "            p_index = i\n",
        "            if p_index != 0:\n",
        "                p_index -= 1\n",
        "            break\n",
        "        i += 1\n",
        "\n",
        "    coin = p_ever_married[i]\n",
        "    married = False\n",
        "    married = ss.bernoulli(p=coin).rvs()\n",
        "\n",
        "    if married == False or 0:\n",
        "        return 0\n",
        "\n",
        "    index_list_cut = index_list[: p_index + 1]\n",
        "    p_marriage_cut = p_marriage[:p_index + 1]\n",
        "    p_marriage_cut = np.array(p_marriage_cut)\n",
        "    norm = sum(p_marriage_cut)\n",
        "    norm_p_marriage_cut = p_marriage_cut / norm\n",
        "    chosen_index = ss.rv_discrete(name='marriage',\n",
        "                                       values=(index_list_cut,\n",
        "                                               norm_p_marriage_cut)).rvs()\n",
        "    sections_variable = sections[chosen_index]\n",
        "    result = np.random.randint(low= sections_variable[0],\n",
        "                               high=sections_variable[1])\n",
        "\n",
        "    return result"
      ],
      "execution_count": 284,
      "outputs": []
    },
    {
      "cell_type": "code",
      "metadata": {
        "id": "EUq7W-FfPbRN"
      },
      "source": [
        "def create_marriage_age(age):\n",
        "    while True:\n",
        "        a = first_marriage(age)\n",
        "        if a < age:\n",
        "            return a\n",
        "            "
      ],
      "execution_count": 258,
      "outputs": []
    },
    {
      "cell_type": "code",
      "metadata": {
        "colab": {
          "base_uri": "https://localhost:8080/"
        },
        "id": "1T3oW3Uf4_Qv",
        "outputId": "c750dfee-da07-455c-f884-81efc9bffb13"
      },
      "source": [
        "create_marriage_age(58)"
      ],
      "execution_count": 283,
      "outputs": [
        {
          "output_type": "stream",
          "text": [
            "1\n"
          ],
          "name": "stdout"
        },
        {
          "output_type": "execute_result",
          "data": {
            "text/plain": [
              "26"
            ]
          },
          "metadata": {
            "tags": []
          },
          "execution_count": 283
        }
      ]
    },
    {
      "cell_type": "code",
      "metadata": {
        "id": "U-j3I4lqFthB"
      },
      "source": [
        "def create_menopause(age, smoking):\n",
        "    start_menopause = ss.norm(loc=49, scale=6).rvs()\n",
        "    if start_menopause > age:\n",
        "        return 0\n",
        "    else:\n",
        "        if smoking == 0:\n",
        "            return int(start_menopause)\n",
        "        else:\n",
        "            return int(start_menopause - np.random.randint(low=0, high=3))"
      ],
      "execution_count": 312,
      "outputs": []
    },
    {
      "cell_type": "code",
      "metadata": {
        "id": "jWdgGMe6csSA"
      },
      "source": [
        "class Woman():\n",
        "    def __init__(self):\n",
        "        self.age = np.random.randint(low=25, high=85)\n",
        "        self.smoking = is_woman_smoking(self.age)\n",
        "        self.height = create_height()\n",
        "        self.weight = create_weight()\n",
        "        self.first_marriage = create_marriage_age(self.age)\n",
        "        self.menopause = create_menopause(self.age, self.smoking)\n",
        "\n",
        "    def info(self):\n",
        "        print('age', self.age)\n",
        "        print('smoking', self.smoking)\n",
        "        print('height', self.height)\n",
        "        print('weight', self.weight)\n",
        "        print('first marriage', self.first_marriage)\n",
        "        print('start of menopause', self.menopause)"
      ],
      "execution_count": 311,
      "outputs": []
    },
    {
      "cell_type": "code",
      "metadata": {
        "id": "-vUmwbiURPUS"
      },
      "source": [
        "a = Woman()"
      ],
      "execution_count": 319,
      "outputs": []
    },
    {
      "cell_type": "code",
      "metadata": {
        "colab": {
          "base_uri": "https://localhost:8080/"
        },
        "id": "dOcBwVneRQ0_",
        "outputId": "2d354b7c-c14c-462a-ebe0-59ec0fe81cc9"
      },
      "source": [
        "a.info()"
      ],
      "execution_count": 320,
      "outputs": [
        {
          "output_type": "stream",
          "text": [
            "age 40\n",
            "smoking 0\n",
            "height 158\n",
            "weight 62\n",
            "first marriage 26\n",
            "start of menopause 0\n"
          ],
          "name": "stdout"
        }
      ]
    },
    {
      "cell_type": "code",
      "metadata": {
        "id": "c0CroVYZejvc"
      },
      "source": [
        "age = np.random.randint(100, size=cohort_size)"
      ],
      "execution_count": 34,
      "outputs": []
    },
    {
      "cell_type": "code",
      "metadata": {
        "id": "xqsqx9jGgtOY"
      },
      "source": [
        "age"
      ],
      "execution_count": null,
      "outputs": []
    },
    {
      "cell_type": "code",
      "metadata": {
        "colab": {
          "base_uri": "https://localhost:8080/",
          "height": 282
        },
        "id": "eIZzHhrig0TG",
        "outputId": "c9e90410-2b43-4ae7-d928-7a3f660c76db"
      },
      "source": [
        "sns.histplot(data=age)"
      ],
      "execution_count": 36,
      "outputs": [
        {
          "output_type": "execute_result",
          "data": {
            "text/plain": [
              "<matplotlib.axes._subplots.AxesSubplot at 0x7f8aa2ec54d0>"
            ]
          },
          "metadata": {
            "tags": []
          },
          "execution_count": 36
        },
        {
          "output_type": "display_data",
          "data": {
            "image/png": "[encoded data removed]",
            "text/plain": [
              "<Figure size 432x288 with 1 Axes>"
            ]
          },
          "metadata": {
            "tags": [],
            "needs_background": "light"
          }
        }
      ]
    },
    {
      "cell_type": "code",
      "metadata": {
        "id": "LWvdlVxBhOc1"
      },
      "source": [
        "df =pd.DataFrame(data={'age':age})"
      ],
      "execution_count": 37,
      "outputs": []
    },
    {
      "cell_type": "code",
      "metadata": {
        "colab": {
          "base_uri": "https://localhost:8080/",
          "height": 204
        },
        "id": "ALRtSVXuiA9j",
        "outputId": "5efcfa60-5d11-41ae-8f21-fc108b6196fe"
      },
      "source": [
        "df.head(5)"
      ],
      "execution_count": 38,
      "outputs": [
        {
          "output_type": "execute_result",
          "data": {
            "text/html": [
              "<div>\n",
              "<style scoped>\n",
              "    .dataframe tbody tr th:only-of-type {\n",
              "        vertical-align: middle;\n",
              "    }\n",
              "\n",
              "    .dataframe tbody tr th {\n",
              "        vertical-align: top;\n",
              "    }\n",
              "\n",
              "    .dataframe thead th {\n",
              "        text-align: right;\n",
              "    }\n",
              "</style>\n",
              "<table border=\"1\" class=\"dataframe\">\n",
              "  <thead>\n",
              "    <tr style=\"text-align: right;\">\n",
              "      <th></th>\n",
              "      <th>age</th>\n",
              "    </tr>\n",
              "  </thead>\n",
              "  <tbody>\n",
              "    <tr>\n",
              "      <th>0</th>\n",
              "      <td>80</td>\n",
              "    </tr>\n",
              "    <tr>\n",
              "      <th>1</th>\n",
              "      <td>91</td>\n",
              "    </tr>\n",
              "    <tr>\n",
              "      <th>2</th>\n",
              "      <td>3</td>\n",
              "    </tr>\n",
              "    <tr>\n",
              "      <th>3</th>\n",
              "      <td>67</td>\n",
              "    </tr>\n",
              "    <tr>\n",
              "      <th>4</th>\n",
              "      <td>69</td>\n",
              "    </tr>\n",
              "  </tbody>\n",
              "</table>\n",
              "</div>"
            ],
            "text/plain": [
              "   age\n",
              "0   80\n",
              "1   91\n",
              "2    3\n",
              "3   67\n",
              "4   69"
            ]
          },
          "metadata": {
            "tags": []
          },
          "execution_count": 38
        }
      ]
    }
  ]
}
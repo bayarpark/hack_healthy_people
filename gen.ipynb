{
 "cells": [
  {
   "cell_type": "code",
   "execution_count": 1,
   "id": "universal-zoning",
   "metadata": {},
   "outputs": [],
   "source": [
    "%load_ext autoreload\n",
    "\n",
    "%autoreload 2\n",
    "\n",
    "import sys"
   ]
  },
  {
   "cell_type": "code",
   "execution_count": 18,
   "id": "apart-statistics",
   "metadata": {},
   "outputs": [],
   "source": [
    "from case_generator import *"
   ]
  },
  {
   "cell_type": "code",
   "execution_count": 11,
   "id": "popular-burns",
   "metadata": {},
   "outputs": [],
   "source": [
    "from tqdm import tqdm\n",
    "def make_sample(number):\n",
    "    peoples = []\n",
    "    for _ in tqdm(range(number)):\n",
    "        p = People()\n",
    "        p.gen_all()\n",
    "        peoples.append(p.to_series())\n",
    "    return pd.DataFrame(peoples)"
   ]
  },
  {
   "cell_type": "code",
   "execution_count": 23,
   "id": "floral-freedom",
   "metadata": {},
   "outputs": [
    {
     "name": "stderr",
     "output_type": "stream",
     "text": [
      "100%|██████████| 100/100 [00:00<00:00, 119.37it/s]"
     ]
    },
    {
     "name": "stdout",
     "output_type": "stream",
     "text": [
      "CPU times: user 882 ms, sys: 12.6 ms, total: 895 ms\n",
      "Wall time: 854 ms\n"
     ]
    },
    {
     "name": "stderr",
     "output_type": "stream",
     "text": [
      "\n"
     ]
    }
   ],
   "source": [
    "%%time\n",
    "df = make_sample(100)"
   ]
  },
  {
   "cell_type": "code",
   "execution_count": 28,
   "id": "mighty-alberta",
   "metadata": {
    "tags": []
   },
   "outputs": [
    {
     "data": {
      "text/html": [
       "<div>\n",
       "<style scoped>\n",
       "    .dataframe tbody tr th:only-of-type {\n",
       "        vertical-align: middle;\n",
       "    }\n",
       "\n",
       "    .dataframe tbody tr th {\n",
       "        vertical-align: top;\n",
       "    }\n",
       "\n",
       "    .dataframe thead th {\n",
       "        text-align: right;\n",
       "    }\n",
       "</style>\n",
       "<table border=\"1\" class=\"dataframe\">\n",
       "  <thead>\n",
       "    <tr style=\"text-align: right;\">\n",
       "      <th></th>\n",
       "      <th>age</th>\n",
       "      <th>sex</th>\n",
       "      <th>smoking</th>\n",
       "      <th>overweight</th>\n",
       "      <th>overall_risk</th>\n",
       "      <th>disease (target)</th>\n",
       "    </tr>\n",
       "  </thead>\n",
       "  <tbody>\n",
       "    <tr>\n",
       "      <th>0</th>\n",
       "      <td>48.0</td>\n",
       "      <td>1.0</td>\n",
       "      <td>0.0</td>\n",
       "      <td>0.0</td>\n",
       "      <td>0.0630</td>\n",
       "      <td>0.0</td>\n",
       "    </tr>\n",
       "    <tr>\n",
       "      <th>1</th>\n",
       "      <td>67.0</td>\n",
       "      <td>1.0</td>\n",
       "      <td>0.0</td>\n",
       "      <td>0.0</td>\n",
       "      <td>0.1990</td>\n",
       "      <td>0.0</td>\n",
       "    </tr>\n",
       "    <tr>\n",
       "      <th>2</th>\n",
       "      <td>94.0</td>\n",
       "      <td>0.0</td>\n",
       "      <td>0.0</td>\n",
       "      <td>1.0</td>\n",
       "      <td>0.3760</td>\n",
       "      <td>0.0</td>\n",
       "    </tr>\n",
       "    <tr>\n",
       "      <th>3</th>\n",
       "      <td>66.0</td>\n",
       "      <td>0.0</td>\n",
       "      <td>0.0</td>\n",
       "      <td>1.0</td>\n",
       "      <td>0.1940</td>\n",
       "      <td>0.0</td>\n",
       "    </tr>\n",
       "    <tr>\n",
       "      <th>4</th>\n",
       "      <td>20.0</td>\n",
       "      <td>0.0</td>\n",
       "      <td>1.0</td>\n",
       "      <td>0.0</td>\n",
       "      <td>0.0078</td>\n",
       "      <td>0.0</td>\n",
       "    </tr>\n",
       "    <tr>\n",
       "      <th>...</th>\n",
       "      <td>...</td>\n",
       "      <td>...</td>\n",
       "      <td>...</td>\n",
       "      <td>...</td>\n",
       "      <td>...</td>\n",
       "      <td>...</td>\n",
       "    </tr>\n",
       "    <tr>\n",
       "      <th>95</th>\n",
       "      <td>42.0</td>\n",
       "      <td>0.0</td>\n",
       "      <td>0.0</td>\n",
       "      <td>1.0</td>\n",
       "      <td>0.1120</td>\n",
       "      <td>0.0</td>\n",
       "    </tr>\n",
       "    <tr>\n",
       "      <th>96</th>\n",
       "      <td>37.0</td>\n",
       "      <td>1.0</td>\n",
       "      <td>0.0</td>\n",
       "      <td>0.0</td>\n",
       "      <td>0.0060</td>\n",
       "      <td>0.0</td>\n",
       "    </tr>\n",
       "    <tr>\n",
       "      <th>97</th>\n",
       "      <td>45.0</td>\n",
       "      <td>0.0</td>\n",
       "      <td>0.0</td>\n",
       "      <td>0.0</td>\n",
       "      <td>0.0560</td>\n",
       "      <td>0.0</td>\n",
       "    </tr>\n",
       "    <tr>\n",
       "      <th>98</th>\n",
       "      <td>46.0</td>\n",
       "      <td>0.0</td>\n",
       "      <td>1.0</td>\n",
       "      <td>0.0</td>\n",
       "      <td>0.0728</td>\n",
       "      <td>0.0</td>\n",
       "    </tr>\n",
       "    <tr>\n",
       "      <th>99</th>\n",
       "      <td>33.0</td>\n",
       "      <td>0.0</td>\n",
       "      <td>0.0</td>\n",
       "      <td>0.0</td>\n",
       "      <td>0.0060</td>\n",
       "      <td>0.0</td>\n",
       "    </tr>\n",
       "  </tbody>\n",
       "</table>\n",
       "<p>100 rows × 6 columns</p>\n",
       "</div>"
      ],
      "text/plain": [
       "     age  sex  smoking  overweight  overall_risk  disease (target)\n",
       "0   48.0  1.0      0.0         0.0        0.0630               0.0\n",
       "1   67.0  1.0      0.0         0.0        0.1990               0.0\n",
       "2   94.0  0.0      0.0         1.0        0.3760               0.0\n",
       "3   66.0  0.0      0.0         1.0        0.1940               0.0\n",
       "4   20.0  0.0      1.0         0.0        0.0078               0.0\n",
       "..   ...  ...      ...         ...           ...               ...\n",
       "95  42.0  0.0      0.0         1.0        0.1120               0.0\n",
       "96  37.0  1.0      0.0         0.0        0.0060               0.0\n",
       "97  45.0  0.0      0.0         0.0        0.0560               0.0\n",
       "98  46.0  0.0      1.0         0.0        0.0728               0.0\n",
       "99  33.0  0.0      0.0         0.0        0.0060               0.0\n",
       "\n",
       "[100 rows x 6 columns]"
      ]
     },
     "execution_count": 28,
     "metadata": {},
     "output_type": "execute_result"
    }
   ],
   "source": [
    "df"
   ]
  },
  {
   "cell_type": "code",
   "execution_count": 29,
   "id": "wrong-xerox",
   "metadata": {},
   "outputs": [
    {
     "data": {
      "text/plain": [
       "age                 47.00000\n",
       "sex                  1.00000\n",
       "smoking              1.00000\n",
       "overweight           0.00000\n",
       "snp_0_f0             1.00000\n",
       "                      ...   \n",
       "snp_999_f0           0.00000\n",
       "snp_999_f1           1.00000\n",
       "snp_999_f2           0.00000\n",
       "overall_risk         0.00083\n",
       "disease (target)     0.00000\n",
       "Length: 3006, dtype: float64"
      ]
     },
     "execution_count": 29,
     "metadata": {},
     "output_type": "execute_result"
    }
   ],
   "source": [
    "p = People()\n",
    "p.gen_all()\n",
    "p.to_series()"
   ]
  },
  {
   "cell_type": "code",
   "execution_count": 84,
   "id": "protected-belarus",
   "metadata": {},
   "outputs": [],
   "source": [
    "freq = 0.2\n",
    "rv = stats.rv_discrete(name='allel',\n",
    "                                    values=([0, 1, 2], [(1 - freq) ** 2, 2 * freq * (1 - freq), freq ** 2]))"
   ]
  },
  {
   "cell_type": "code",
   "execution_count": 91,
   "id": "arabic-kruger",
   "metadata": {},
   "outputs": [
    {
     "name": "stdout",
     "output_type": "stream",
     "text": [
      "CPU times: user 52.1 s, sys: 124 ms, total: 52.2 s\n",
      "Wall time: 51.9 s\n"
     ]
    }
   ],
   "source": [
    "%%time \n",
    "for _ in range(1000_00):\n",
    "    rv = stats.rv_discrete(name='allel',\n",
    "                                    values=([0, 1, 2], [(1 - freq) ** 2, 2 * freq * (1 - freq), freq ** 2]))\n",
    "    rv.rvs()"
   ]
  },
  {
   "cell_type": "code",
   "execution_count": 7,
   "id": "chinese-bernard",
   "metadata": {},
   "outputs": [
    {
     "data": {
      "text/plain": [
       "<AxesSubplot:xlabel='overall_risk', ylabel='Density'>"
      ]
     },
     "execution_count": 7,
     "metadata": {},
     "output_type": "execute_result"
    },
    {
     "data": {
      "image/png": "[encoded data removed]",
      "text/plain": [
       "<Figure size 432x288 with 1 Axes>"
      ]
     },
     "metadata": {
      "needs_background": "light"
     },
     "output_type": "display_data"
    }
   ],
   "source": [
    "import seaborn as sns\n",
    "\n",
    "sns.kdeplot(df['overall_risk'])"
   ]
  },
  {
   "cell_type": "code",
   "execution_count": null,
   "id": "concerned-respect",
   "metadata": {},
   "outputs": [],
   "source": []
  }
 ],
 "metadata": {
  "kernelspec": {
   "display_name": "pc",
   "language": "python",
   "name": "pc"
  },
  "language_info": {
   "codemirror_mode": {
    "name": "ipython",
    "version": 3
   },
   "file_extension": ".py",
   "mimetype": "text/x-python",
   "name": "python",
   "nbconvert_exporter": "python",
   "pygments_lexer": "ipython3",
   "version": "3.8.8"
  }
 },
 "nbformat": 4,
 "nbformat_minor": 5
}

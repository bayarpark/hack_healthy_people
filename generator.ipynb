{
 "cells": [
  {
   "cell_type": "markdown",
   "id": "liberal-sharing",
   "metadata": {},
   "source": [
    "1. Ожирение --- https://www.euro.who.int/__data/assets/pdf_file/0015/243321/Russian-Federation-WHO-Country-Profile.pdf\n",
    "\n",
    "2. Диабет --- https://www.who.int/diabetes/country-profiles/rus_en.pdf"
   ]
  },
  {
   "cell_type": "code",
   "execution_count": 25,
   "id": "following-egypt",
   "metadata": {},
   "outputs": [],
   "source": [
    "import pandas as pd"
   ]
  },
  {
   "cell_type": "code",
   "execution_count": 26,
   "id": "broad-launch",
   "metadata": {},
   "outputs": [],
   "source": [
    "def age2interval(pd_age_series):\n",
    "    return pd_age_series.apply(lambda x: pd.Interval(left=int(x[:x.find('-')]), right=int(x[x.find('-') + 1:]), closed='both'))"
   ]
  },
  {
   "cell_type": "code",
   "execution_count": 27,
   "id": "dressed-experiment",
   "metadata": {},
   "outputs": [],
   "source": [
    "nw1000m = pd.read_csv('data/nw1000m.csv')\n",
    "nw1000m['age'] = age2interval(nw1000m['age'])\n",
    "nw1000m['female_proba'] = nw1000m['value'] / (nw1000m['value']  + 1000)"
   ]
  },
  {
   "cell_type": "code",
   "execution_count": 28,
   "id": "orange-shakespeare",
   "metadata": {},
   "outputs": [],
   "source": [
    "from scipy import stats\n",
    "\n",
    "age_proba = pd.read_csv('data/age_proba.csv')\n",
    "age_variable = stats.rv_discrete(name='russianage', values=(age_proba['age'], age_proba['proba']))\n"
   ]
  },
  {
   "cell_type": "code",
   "execution_count": 29,
   "id": "upset-queens",
   "metadata": {},
   "outputs": [],
   "source": [
    "age_sex_risk = pd.read_csv('data/age_sex_risk.csv')\n",
    "age_sex_risk['age'] = age2interval(age_sex_risk['age'])"
   ]
  },
  {
   "cell_type": "code",
   "execution_count": 30,
   "id": "recovered-ordinary",
   "metadata": {},
   "outputs": [],
   "source": [
    "def cad_age(age):\n",
    "    return 1/30\n",
    "\n",
    "def cad_sex(sex): # модификатор от 0 до inf\n",
    "    return 1\n",
    "\n",
    "\n",
    "def cad_age_sex(age, sex):\n",
    "    risk_age = age_sex_risk[age_sex_risk['age'].apply(lambda x: age in x)]\n",
    "    return float(risk_age[risk_age['sex'] == sex]['risk'])\n",
    "\n",
    "def cad_smoke(smoke):\n",
    "    return 1.3 if smoke == 1 else 1\n",
    "\n",
    "def cad_overweight(sex):\n",
    "    return \n",
    "        \n",
    "    "
   ]
  },
  {
   "cell_type": "code",
   "execution_count": 60,
   "id": "spread-photography",
   "metadata": {},
   "outputs": [],
   "source": [
    "from scipy.stats import bernoulli\n",
    "\n",
    "smoking = pd.read_csv('data/smoking.csv')\n",
    "smoking['age'] = age2interval(smoking['age'])\n",
    "\n",
    "def smoke_proba_age_sex(age, sex):\n",
    "    \"\"\"\n",
    "    age: возраст\n",
    "    sex: 1 - муж., 0 - жен\n",
    "    \n",
    "    return: 1 - курит, 0 - не курит (с учетом пола и возраста)\n",
    "    \"\"\"\n",
    "    smoking_age = smoking[smoking['age'].apply(lambda x: age in x)]\n",
    "    \n",
    "    smoke_proba = float(smoking_age[smoking_age['sex'] == sex]['smoke'])\n",
    "    \n",
    "    rv = stats.bernoulli(smoke_proba)\n",
    "    return rv.rvs(), smoke_proba\n",
    "\n",
    "class People:\n",
    "    risks = dict()\n",
    "    \n",
    "    def gen_age(self):\n",
    "        age = lambda: q if (q := age_variable.rvs()) >= 20 else age()\n",
    "        self.age = age()\n",
    "        \n",
    "        # self.risks['age'] = cad_age(self.age)\n",
    "        # self.risk = self.risks['age']\n",
    "        \n",
    "    \n",
    "    def gen_sex(self):\n",
    "        fem_prob = float(nw1000m[nw1000m['age'].apply(lambda x: self.age in x)]['female_proba'])\n",
    "        rv = bernoulli(1 - fem_prob)\n",
    "        self.sex = rv.rvs()\n",
    "        \n",
    "        # self.risks['sex'] = cad_sex(self.sex)\n",
    "        \n",
    "        # self.risk = self.risk*self.risks['sex']\n",
    "        self.risks['age_sex'] = cad_age_sex(self.age, self.sex)\n",
    "        self.risk = cad_age_sex(self.age, self.sex)\n",
    "        \n",
    "        \n",
    "    def gen_smoke(self):\n",
    "\n",
    "        self.smoke, _ = smoke_proba_age_sex(self.age, self.sex)\n",
    "        self.risks['smoke'] = cad_smoke(self.smoke)\n",
    "        \n",
    "        self.risk = self.risk \n",
    "        \n",
    "    def gen_overweight(self):\n",
    "        overweight_proba = 0.247 if self.sex == 0 else 0.179\n",
    "        rv = bernoulli(overweight_proba)\n",
    "        self.overweight = rv.rvs()\n",
    "        self.risk *= (2 * overweight_proba + (1 - overweight_proba)) / 2 if self.overweight == 1 else 1\n",
    "    \n",
    "   # def gen_diabetes(self):\n",
    "        \n",
    "    #    diabetes_proba = \n",
    "    #    rv = bernoulli(diabetes_proba)\n",
    "    #    self.diabetes = rv.rvs()\n",
    "        \n",
    "     #   self.risk *= 4 if self.diabetes == 1 else 1\n",
    "    \n",
    "    def gen_snps(self):\n",
    "        ...\n",
    "        \n",
    "        \n",
    "    def calc_target(self):\n",
    "        rv = bernoulli(self.risk)\n",
    "        self.target =  rv.rvs()\n",
    "        \n",
    "    def to_series(self):\n",
    "        return pd.Series(\n",
    "                          { 'age': self.age\n",
    "                          , 'sex': self.sex\n",
    "                          , 'smoke': self.smoke\n",
    "                          , 'overweight': self.overweight\n",
    "                          # , 'diabetes': self.diabetes\n",
    "                          , 'overall_risk': self.risk\n",
    "                          , 'disease (target)': self.target\n",
    "                          })\n",
    "        \n",
    "    def gen_all(self):\n",
    "        self.gen_age()\n",
    "        self.gen_sex()\n",
    "        self.gen_smoke()\n",
    "        self.gen_overweight()\n",
    "        # self.gen_diabetes()\n",
    "        self.gen_snps()\n",
    "        self.calc_target()\n",
    "        \n",
    "        "
   ]
  },
  {
   "cell_type": "code",
   "execution_count": 61,
   "id": "weighted-license",
   "metadata": {},
   "outputs": [],
   "source": [
    "def make_sample(number):\n",
    "    peoples = []\n",
    "    for _ in range(number):\n",
    "        p = People()\n",
    "        p.gen_all()\n",
    "        peoples.append(p.to_series())\n",
    "    return pd.DataFrame(peoples)"
   ]
  },
  {
   "cell_type": "code",
   "execution_count": 69,
   "id": "guilty-tsunami",
   "metadata": {},
   "outputs": [
    {
     "name": "stdout",
     "output_type": "stream",
     "text": [
      "CPU times: user 36.6 s, sys: 36 ms, total: 36.7 s\n",
      "Wall time: 36.7 s\n"
     ]
    }
   ],
   "source": [
    "%%time\n",
    "df = make_sample(5000)"
   ]
  },
  {
   "cell_type": "code",
   "execution_count": 70,
   "id": "decreased-honor",
   "metadata": {},
   "outputs": [
    {
     "data": {
      "text/plain": [
       "282.0"
      ]
     },
     "execution_count": 70,
     "metadata": {},
     "output_type": "execute_result"
    }
   ],
   "source": [
    "df['disease (target)'].sum()"
   ]
  },
  {
   "cell_type": "code",
   "execution_count": 63,
   "id": "reliable-medline",
   "metadata": {},
   "outputs": [
    {
     "data": {
      "text/plain": [
       "<AxesSubplot:xlabel='overall_risk', ylabel='Density'>"
      ]
     },
     "execution_count": 63,
     "metadata": {},
     "output_type": "execute_result"
    },
    {
     "data": {
      "image/png": "[encoded data removed]",
      "text/plain": [
       "<Figure size 432x288 with 1 Axes>"
      ]
     },
     "metadata": {
      "needs_background": "light"
     },
     "output_type": "display_data"
    }
   ],
   "source": [
    "import seaborn as sns\n",
    "\n",
    "sns.kdeplot(df['overall_risk'])"
   ]
  },
  {
   "cell_type": "code",
   "execution_count": 56,
   "id": "useful-implement",
   "metadata": {},
   "outputs": [
    {
     "data": {
      "text/plain": [
       "<AxesSubplot:xlabel='overall_risk', ylabel='Density'>"
      ]
     },
     "execution_count": 56,
     "metadata": {},
     "output_type": "execute_result"
    },
    {
     "data": {
      "image/png": "[encoded data removed]",
      "text/plain": [
       "<Figure size 432x288 with 1 Axes>"
      ]
     },
     "metadata": {
      "needs_background": "light"
     },
     "output_type": "display_data"
    }
   ],
   "source": [
    "import seaborn as sns\n",
    "\n",
    "sns.kdeplot(df['overall_risk'])"
   ]
  },
  {
   "cell_type": "code",
   "execution_count": 18,
   "id": "native-palestine",
   "metadata": {},
   "outputs": [
    {
     "data": {
      "text/plain": [
       "84.0"
      ]
     },
     "execution_count": 18,
     "metadata": {},
     "output_type": "execute_result"
    }
   ],
   "source": [
    "df['disease (target)'].sum()"
   ]
  },
  {
   "cell_type": "code",
   "execution_count": null,
   "id": "convenient-flooring",
   "metadata": {},
   "outputs": [],
   "source": []
  }
 ],
 "metadata": {
  "kernelspec": {
   "display_name": "pc",
   "language": "python",
   "name": "pc"
  },
  "language_info": {
   "codemirror_mode": {
    "name": "ipython",
    "version": 3
   },
   "file_extension": ".py",
   "mimetype": "text/x-python",
   "name": "python",
   "nbconvert_exporter": "python",
   "pygments_lexer": "ipython3",
   "version": "3.8.8"
  }
 },
 "nbformat": 4,
 "nbformat_minor": 5
}

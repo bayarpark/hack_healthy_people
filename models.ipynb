{
 "cells": [
  {
   "cell_type": "code",
   "execution_count": 1,
   "id": "4592c45e",
   "metadata": {},
   "outputs": [],
   "source": [
    "import numpy as np\n",
    "import pandas as pd\n",
    "import matplotlib.pyplot as plt\n",
    "import seaborn as sns\n",
    "\n",
    "import warnings\n",
    "warnings.filterwarnings('ignore')\n",
    "\n",
    "correlation_threshold = 0.78\n",
    "seed = 1\n",
    "%matplotlib inline"
   ]
  },
  {
   "cell_type": "code",
   "execution_count": 65,
   "id": "bcf38da7",
   "metadata": {},
   "outputs": [
    {
     "data": {
      "text/html": [
       "<div>\n",
       "<style scoped>\n",
       "    .dataframe tbody tr th:only-of-type {\n",
       "        vertical-align: middle;\n",
       "    }\n",
       "\n",
       "    .dataframe tbody tr th {\n",
       "        vertical-align: top;\n",
       "    }\n",
       "\n",
       "    .dataframe thead th {\n",
       "        text-align: right;\n",
       "    }\n",
       "</style>\n",
       "<table border=\"1\" class=\"dataframe\">\n",
       "  <thead>\n",
       "    <tr style=\"text-align: right;\">\n",
       "      <th></th>\n",
       "      <th>age</th>\n",
       "      <th>sex</th>\n",
       "      <th>smoke</th>\n",
       "      <th>overweight</th>\n",
       "      <th>disease (target)</th>\n",
       "    </tr>\n",
       "  </thead>\n",
       "  <tbody>\n",
       "    <tr>\n",
       "      <th>0</th>\n",
       "      <td>53.0</td>\n",
       "      <td>0.0</td>\n",
       "      <td>0.0</td>\n",
       "      <td>1.0</td>\n",
       "      <td>0.0</td>\n",
       "    </tr>\n",
       "    <tr>\n",
       "      <th>1</th>\n",
       "      <td>59.0</td>\n",
       "      <td>0.0</td>\n",
       "      <td>0.0</td>\n",
       "      <td>0.0</td>\n",
       "      <td>0.0</td>\n",
       "    </tr>\n",
       "    <tr>\n",
       "      <th>2</th>\n",
       "      <td>23.0</td>\n",
       "      <td>1.0</td>\n",
       "      <td>1.0</td>\n",
       "      <td>0.0</td>\n",
       "      <td>0.0</td>\n",
       "    </tr>\n",
       "    <tr>\n",
       "      <th>3</th>\n",
       "      <td>63.0</td>\n",
       "      <td>0.0</td>\n",
       "      <td>0.0</td>\n",
       "      <td>0.0</td>\n",
       "      <td>0.0</td>\n",
       "    </tr>\n",
       "    <tr>\n",
       "      <th>4</th>\n",
       "      <td>55.0</td>\n",
       "      <td>1.0</td>\n",
       "      <td>1.0</td>\n",
       "      <td>0.0</td>\n",
       "      <td>0.0</td>\n",
       "    </tr>\n",
       "  </tbody>\n",
       "</table>\n",
       "</div>"
      ],
      "text/plain": [
       "    age  sex  smoke  overweight  disease (target)\n",
       "0  53.0  0.0    0.0         1.0               0.0\n",
       "1  59.0  0.0    0.0         0.0               0.0\n",
       "2  23.0  1.0    1.0         0.0               0.0\n",
       "3  63.0  0.0    0.0         0.0               0.0\n",
       "4  55.0  1.0    1.0         0.0               0.0"
      ]
     },
     "execution_count": 65,
     "metadata": {},
     "output_type": "execute_result"
    }
   ],
   "source": [
    "data = pd.read_csv(\"hack_healthy_people/data_5000.csv\")\n",
    "data.head()"
   ]
  },
  {
   "cell_type": "code",
   "execution_count": 66,
   "id": "291c45e3",
   "metadata": {},
   "outputs": [
    {
     "data": {
      "text/plain": [
       "0    0.0\n",
       "1    0.0\n",
       "2    0.0\n",
       "3    0.0\n",
       "4    0.0\n",
       "Name: disease (target), dtype: float64"
      ]
     },
     "execution_count": 66,
     "metadata": {},
     "output_type": "execute_result"
    }
   ],
   "source": [
    "y = data[\"disease (target)\"]\n",
    "y.head()"
   ]
  },
  {
   "cell_type": "code",
   "execution_count": 67,
   "id": "cb954e5e",
   "metadata": {},
   "outputs": [
    {
     "data": {
      "text/html": [
       "<div>\n",
       "<style scoped>\n",
       "    .dataframe tbody tr th:only-of-type {\n",
       "        vertical-align: middle;\n",
       "    }\n",
       "\n",
       "    .dataframe tbody tr th {\n",
       "        vertical-align: top;\n",
       "    }\n",
       "\n",
       "    .dataframe thead th {\n",
       "        text-align: right;\n",
       "    }\n",
       "</style>\n",
       "<table border=\"1\" class=\"dataframe\">\n",
       "  <thead>\n",
       "    <tr style=\"text-align: right;\">\n",
       "      <th></th>\n",
       "      <th>age</th>\n",
       "      <th>sex</th>\n",
       "      <th>smoke</th>\n",
       "      <th>overweight</th>\n",
       "    </tr>\n",
       "  </thead>\n",
       "  <tbody>\n",
       "    <tr>\n",
       "      <th>0</th>\n",
       "      <td>53.0</td>\n",
       "      <td>0.0</td>\n",
       "      <td>0.0</td>\n",
       "      <td>1.0</td>\n",
       "    </tr>\n",
       "    <tr>\n",
       "      <th>1</th>\n",
       "      <td>59.0</td>\n",
       "      <td>0.0</td>\n",
       "      <td>0.0</td>\n",
       "      <td>0.0</td>\n",
       "    </tr>\n",
       "    <tr>\n",
       "      <th>2</th>\n",
       "      <td>23.0</td>\n",
       "      <td>1.0</td>\n",
       "      <td>1.0</td>\n",
       "      <td>0.0</td>\n",
       "    </tr>\n",
       "    <tr>\n",
       "      <th>3</th>\n",
       "      <td>63.0</td>\n",
       "      <td>0.0</td>\n",
       "      <td>0.0</td>\n",
       "      <td>0.0</td>\n",
       "    </tr>\n",
       "    <tr>\n",
       "      <th>4</th>\n",
       "      <td>55.0</td>\n",
       "      <td>1.0</td>\n",
       "      <td>1.0</td>\n",
       "      <td>0.0</td>\n",
       "    </tr>\n",
       "  </tbody>\n",
       "</table>\n",
       "</div>"
      ],
      "text/plain": [
       "    age  sex  smoke  overweight\n",
       "0  53.0  0.0    0.0         1.0\n",
       "1  59.0  0.0    0.0         0.0\n",
       "2  23.0  1.0    1.0         0.0\n",
       "3  63.0  0.0    0.0         0.0\n",
       "4  55.0  1.0    1.0         0.0"
      ]
     },
     "execution_count": 67,
     "metadata": {},
     "output_type": "execute_result"
    }
   ],
   "source": [
    "X = data[data.columns[:-1]]\n",
    "X.head()"
   ]
  },
  {
   "cell_type": "markdown",
   "id": "3cf1c518",
   "metadata": {},
   "source": [
    "**Так как в тестовой выборке встречаются nan уже в других колонках**\n",
    "\n",
    "**То принято решение заполнять nan нулями**\n",
    "\n",
    "**Несмотря на то, что это делать не совсем правильно**\n",
    "\n",
    "**На качество предсказания моделей это не сильно повлияло**"
   ]
  },
  {
   "cell_type": "code",
   "execution_count": 68,
   "id": "72b1bf92",
   "metadata": {},
   "outputs": [],
   "source": [
    "# pr_X = X.fillna(0)"
   ]
  },
  {
   "cell_type": "code",
   "execution_count": 69,
   "id": "19b54e6b",
   "metadata": {},
   "outputs": [],
   "source": [
    "# # pr_X = remove_nans(X)\n",
    "# pr_X = remove_zeros(pr_X)\n",
    "# pr_X = remove_correlated_features(pr_X, threshold=correlation_threshold)"
   ]
  },
  {
   "cell_type": "code",
   "execution_count": 70,
   "id": "a7722fb5-742e-42b0-9deb-962efe710e0e",
   "metadata": {},
   "outputs": [],
   "source": [
    "pr_X = X"
   ]
  },
  {
   "cell_type": "code",
   "execution_count": 71,
   "id": "ca7779ed",
   "metadata": {},
   "outputs": [
    {
     "data": {
      "text/plain": [
       "(5000, 4)"
      ]
     },
     "execution_count": 71,
     "metadata": {},
     "output_type": "execute_result"
    }
   ],
   "source": [
    "pr_X.shape"
   ]
  },
  {
   "cell_type": "code",
   "execution_count": 9,
   "id": "37b5b6d2",
   "metadata": {},
   "outputs": [
    {
     "data": {
      "text/plain": [
       "<AxesSubplot:>"
      ]
     },
     "execution_count": 9,
     "metadata": {},
     "output_type": "execute_result"
    },
    {
     "data": {
      "image/png": "[encoded data removed]",
      "text/plain": [
       "<Figure size 432x288 with 2 Axes>"
      ]
     },
     "metadata": {
      "needs_background": "light"
     },
     "output_type": "display_data"
    }
   ],
   "source": [
    "corr = pr_X.corr().abs()\n",
    "sns.heatmap(corr)"
   ]
  },
  {
   "cell_type": "markdown",
   "id": "d82a4032",
   "metadata": {},
   "source": [
    "## Снижаем размерность"
   ]
  },
  {
   "cell_type": "code",
   "execution_count": 10,
   "id": "860531c8-e242-4db9-b4e7-553514da13ee",
   "metadata": {},
   "outputs": [
    {
     "data": {
      "text/plain": [
       "0       32.0\n",
       "1       64.0\n",
       "2       74.0\n",
       "3       58.0\n",
       "4       80.0\n",
       "        ... \n",
       "4995    58.0\n",
       "4996    42.0\n",
       "4997    36.0\n",
       "4998    68.0\n",
       "4999    56.0\n",
       "Name: age, Length: 5000, dtype: float64"
      ]
     },
     "execution_count": 10,
     "metadata": {},
     "output_type": "execute_result"
    }
   ],
   "source": [
    "pr_X['age']"
   ]
  },
  {
   "cell_type": "code",
   "execution_count": 11,
   "id": "06dc2943",
   "metadata": {},
   "outputs": [],
   "source": [
    "from sklearn.preprocessing import MinMaxScaler\n",
    "\n",
    "scaler = MinMaxScaler()\n",
    "scaler.fit(pr_X[['age']])\n",
    "pr_X[['age']] = scaler.transform(pr_X[['age']])"
   ]
  },
  {
   "cell_type": "code",
   "execution_count": 12,
   "id": "cf8d1311-2eca-4913-9ae3-02e145a1b30b",
   "metadata": {},
   "outputs": [
    {
     "data": {
      "text/html": [
       "<div>\n",
       "<style scoped>\n",
       "    .dataframe tbody tr th:only-of-type {\n",
       "        vertical-align: middle;\n",
       "    }\n",
       "\n",
       "    .dataframe tbody tr th {\n",
       "        vertical-align: top;\n",
       "    }\n",
       "\n",
       "    .dataframe thead th {\n",
       "        text-align: right;\n",
       "    }\n",
       "</style>\n",
       "<table border=\"1\" class=\"dataframe\">\n",
       "  <thead>\n",
       "    <tr style=\"text-align: right;\">\n",
       "      <th></th>\n",
       "      <th>age</th>\n",
       "      <th>sex</th>\n",
       "      <th>smoke</th>\n",
       "      <th>overweight</th>\n",
       "    </tr>\n",
       "  </thead>\n",
       "  <tbody>\n",
       "    <tr>\n",
       "      <th>0</th>\n",
       "      <td>0.150</td>\n",
       "      <td>1.0</td>\n",
       "      <td>0.0</td>\n",
       "      <td>0.0</td>\n",
       "    </tr>\n",
       "    <tr>\n",
       "      <th>1</th>\n",
       "      <td>0.550</td>\n",
       "      <td>1.0</td>\n",
       "      <td>0.0</td>\n",
       "      <td>0.0</td>\n",
       "    </tr>\n",
       "    <tr>\n",
       "      <th>2</th>\n",
       "      <td>0.675</td>\n",
       "      <td>1.0</td>\n",
       "      <td>1.0</td>\n",
       "      <td>1.0</td>\n",
       "    </tr>\n",
       "    <tr>\n",
       "      <th>3</th>\n",
       "      <td>0.475</td>\n",
       "      <td>0.0</td>\n",
       "      <td>0.0</td>\n",
       "      <td>1.0</td>\n",
       "    </tr>\n",
       "    <tr>\n",
       "      <th>4</th>\n",
       "      <td>0.750</td>\n",
       "      <td>0.0</td>\n",
       "      <td>0.0</td>\n",
       "      <td>1.0</td>\n",
       "    </tr>\n",
       "  </tbody>\n",
       "</table>\n",
       "</div>"
      ],
      "text/plain": [
       "     age  sex  smoke  overweight\n",
       "0  0.150  1.0    0.0         0.0\n",
       "1  0.550  1.0    0.0         0.0\n",
       "2  0.675  1.0    1.0         1.0\n",
       "3  0.475  0.0    0.0         1.0\n",
       "4  0.750  0.0    0.0         1.0"
      ]
     },
     "execution_count": 12,
     "metadata": {},
     "output_type": "execute_result"
    }
   ],
   "source": [
    "pr_X.head()"
   ]
  },
  {
   "cell_type": "code",
   "execution_count": 28,
   "id": "94bb3c19-313f-4f38-a17a-09551af64151",
   "metadata": {},
   "outputs": [
    {
     "data": {
      "text/html": [
       "<div>\n",
       "<style scoped>\n",
       "    .dataframe tbody tr th:only-of-type {\n",
       "        vertical-align: middle;\n",
       "    }\n",
       "\n",
       "    .dataframe tbody tr th {\n",
       "        vertical-align: top;\n",
       "    }\n",
       "\n",
       "    .dataframe thead th {\n",
       "        text-align: right;\n",
       "    }\n",
       "</style>\n",
       "<table border=\"1\" class=\"dataframe\">\n",
       "  <thead>\n",
       "    <tr style=\"text-align: right;\">\n",
       "      <th></th>\n",
       "      <th>0</th>\n",
       "      <th>1</th>\n",
       "      <th>2</th>\n",
       "    </tr>\n",
       "  </thead>\n",
       "  <tbody>\n",
       "    <tr>\n",
       "      <th>0</th>\n",
       "      <td>0.175267</td>\n",
       "      <td>-0.390353</td>\n",
       "      <td>0.528416</td>\n",
       "    </tr>\n",
       "    <tr>\n",
       "      <th>1</th>\n",
       "      <td>0.137719</td>\n",
       "      <td>-0.407678</td>\n",
       "      <td>0.564966</td>\n",
       "    </tr>\n",
       "    <tr>\n",
       "      <th>2</th>\n",
       "      <td>0.690481</td>\n",
       "      <td>0.835625</td>\n",
       "      <td>0.255321</td>\n",
       "    </tr>\n",
       "    <tr>\n",
       "      <th>3</th>\n",
       "      <td>-0.688863</td>\n",
       "      <td>0.683763</td>\n",
       "      <td>0.210390</td>\n",
       "    </tr>\n",
       "    <tr>\n",
       "      <th>4</th>\n",
       "      <td>-0.714677</td>\n",
       "      <td>0.671852</td>\n",
       "      <td>0.235518</td>\n",
       "    </tr>\n",
       "  </tbody>\n",
       "</table>\n",
       "</div>"
      ],
      "text/plain": [
       "          0         1         2\n",
       "0  0.175267 -0.390353  0.528416\n",
       "1  0.137719 -0.407678  0.564966\n",
       "2  0.690481  0.835625  0.255321\n",
       "3 -0.688863  0.683763  0.210390\n",
       "4 -0.714677  0.671852  0.235518"
      ]
     },
     "execution_count": 28,
     "metadata": {},
     "output_type": "execute_result"
    }
   ],
   "source": [
    "from sklearn.decomposition import PCA\n",
    "\n",
    "pca = PCA(n_components=3)\n",
    "pca.fit(pr_X)\n",
    "X_pca = pca.transform(pr_X)\n",
    "X_pca = pd.DataFrame(X_pca)\n",
    "X_pca.head()"
   ]
  },
  {
   "cell_type": "code",
   "execution_count": 29,
   "id": "722612a2-8e67-45e7-b348-457848e89f60",
   "metadata": {},
   "outputs": [
    {
     "data": {
      "text/html": [
       "<div>\n",
       "<style scoped>\n",
       "    .dataframe tbody tr th:only-of-type {\n",
       "        vertical-align: middle;\n",
       "    }\n",
       "\n",
       "    .dataframe tbody tr th {\n",
       "        vertical-align: top;\n",
       "    }\n",
       "\n",
       "    .dataframe thead th {\n",
       "        text-align: right;\n",
       "    }\n",
       "</style>\n",
       "<table border=\"1\" class=\"dataframe\">\n",
       "  <thead>\n",
       "    <tr style=\"text-align: right;\">\n",
       "      <th></th>\n",
       "      <th>0</th>\n",
       "      <th>1</th>\n",
       "      <th>2</th>\n",
       "      <th>3</th>\n",
       "    </tr>\n",
       "  </thead>\n",
       "  <tbody>\n",
       "    <tr>\n",
       "      <th>0</th>\n",
       "      <td>0.175267</td>\n",
       "      <td>-0.390353</td>\n",
       "      <td>0.528416</td>\n",
       "      <td>0.0</td>\n",
       "    </tr>\n",
       "    <tr>\n",
       "      <th>1</th>\n",
       "      <td>0.137719</td>\n",
       "      <td>-0.407678</td>\n",
       "      <td>0.564966</td>\n",
       "      <td>0.0</td>\n",
       "    </tr>\n",
       "    <tr>\n",
       "      <th>2</th>\n",
       "      <td>0.690481</td>\n",
       "      <td>0.835625</td>\n",
       "      <td>0.255321</td>\n",
       "      <td>0.0</td>\n",
       "    </tr>\n",
       "    <tr>\n",
       "      <th>3</th>\n",
       "      <td>-0.688863</td>\n",
       "      <td>0.683763</td>\n",
       "      <td>0.210390</td>\n",
       "      <td>0.0</td>\n",
       "    </tr>\n",
       "    <tr>\n",
       "      <th>4</th>\n",
       "      <td>-0.714677</td>\n",
       "      <td>0.671852</td>\n",
       "      <td>0.235518</td>\n",
       "      <td>0.0</td>\n",
       "    </tr>\n",
       "  </tbody>\n",
       "</table>\n",
       "</div>"
      ],
      "text/plain": [
       "          0         1         2    3\n",
       "0  0.175267 -0.390353  0.528416  0.0\n",
       "1  0.137719 -0.407678  0.564966  0.0\n",
       "2  0.690481  0.835625  0.255321  0.0\n",
       "3 -0.688863  0.683763  0.210390  0.0\n",
       "4 -0.714677  0.671852  0.235518  0.0"
      ]
     },
     "execution_count": 29,
     "metadata": {},
     "output_type": "execute_result"
    }
   ],
   "source": [
    "y.index = [i for i in range(len(y))]\n",
    "data_pca = pd.concat([X_pca, y], ignore_index=True, axis=1)\n",
    "data_pca.head()"
   ]
  },
  {
   "cell_type": "code",
   "execution_count": 30,
   "id": "8bbda530-c809-4674-b5c2-517b177101ec",
   "metadata": {},
   "outputs": [
    {
     "data": {
      "text/plain": [
       "<seaborn.axisgrid.PairGrid at 0x7f412e146700>"
      ]
     },
     "execution_count": 30,
     "metadata": {},
     "output_type": "execute_result"
    },
    {
     "data": {
      "image/png": "[encoded data removed]",
      "text/plain": [
       "<Figure size 720x720 with 20 Axes>"
      ]
     },
     "metadata": {
      "needs_background": "light"
     },
     "output_type": "display_data"
    }
   ],
   "source": [
    "data_pca.columns =[f\"F{i}\" for i in range(len(data_pca.columns))]\n",
    "sns.pairplot(data_pca)"
   ]
  },
  {
   "cell_type": "code",
   "execution_count": 31,
   "id": "c01c561d-b35e-4482-9a3e-7cfbf4ecc511",
   "metadata": {},
   "outputs": [
    {
     "data": {
      "text/html": [
       "<div>\n",
       "<style scoped>\n",
       "    .dataframe tbody tr th:only-of-type {\n",
       "        vertical-align: middle;\n",
       "    }\n",
       "\n",
       "    .dataframe tbody tr th {\n",
       "        vertical-align: top;\n",
       "    }\n",
       "\n",
       "    .dataframe thead th {\n",
       "        text-align: right;\n",
       "    }\n",
       "</style>\n",
       "<table border=\"1\" class=\"dataframe\">\n",
       "  <thead>\n",
       "    <tr style=\"text-align: right;\">\n",
       "      <th></th>\n",
       "      <th>0</th>\n",
       "      <th>1</th>\n",
       "      <th>2</th>\n",
       "    </tr>\n",
       "  </thead>\n",
       "  <tbody>\n",
       "    <tr>\n",
       "      <th>0</th>\n",
       "      <td>0.175267</td>\n",
       "      <td>-0.390353</td>\n",
       "      <td>0.528416</td>\n",
       "    </tr>\n",
       "    <tr>\n",
       "      <th>1</th>\n",
       "      <td>0.137719</td>\n",
       "      <td>-0.407678</td>\n",
       "      <td>0.564966</td>\n",
       "    </tr>\n",
       "    <tr>\n",
       "      <th>2</th>\n",
       "      <td>0.690481</td>\n",
       "      <td>0.835625</td>\n",
       "      <td>0.255321</td>\n",
       "    </tr>\n",
       "    <tr>\n",
       "      <th>3</th>\n",
       "      <td>-0.688863</td>\n",
       "      <td>0.683763</td>\n",
       "      <td>0.210390</td>\n",
       "    </tr>\n",
       "    <tr>\n",
       "      <th>4</th>\n",
       "      <td>-0.714677</td>\n",
       "      <td>0.671852</td>\n",
       "      <td>0.235518</td>\n",
       "    </tr>\n",
       "  </tbody>\n",
       "</table>\n",
       "</div>"
      ],
      "text/plain": [
       "          0         1         2\n",
       "0  0.175267 -0.390353  0.528416\n",
       "1  0.137719 -0.407678  0.564966\n",
       "2  0.690481  0.835625  0.255321\n",
       "3 -0.688863  0.683763  0.210390\n",
       "4 -0.714677  0.671852  0.235518"
      ]
     },
     "execution_count": 31,
     "metadata": {},
     "output_type": "execute_result"
    }
   ],
   "source": [
    "from sklearn.discriminant_analysis import LinearDiscriminantAnalysis\n",
    "\n",
    "lda = LinearDiscriminantAnalysis()\n",
    "lda.fit(pr_X, y)\n",
    "X_lda = pca.transform(pr_X)\n",
    "X_lda = pd.DataFrame(X_lda)\n",
    "X_lda.head()"
   ]
  },
  {
   "cell_type": "code",
   "execution_count": 32,
   "id": "37ef8abc-c544-4584-9930-27928f5f5951",
   "metadata": {},
   "outputs": [
    {
     "data": {
      "text/html": [
       "<div>\n",
       "<style scoped>\n",
       "    .dataframe tbody tr th:only-of-type {\n",
       "        vertical-align: middle;\n",
       "    }\n",
       "\n",
       "    .dataframe tbody tr th {\n",
       "        vertical-align: top;\n",
       "    }\n",
       "\n",
       "    .dataframe thead th {\n",
       "        text-align: right;\n",
       "    }\n",
       "</style>\n",
       "<table border=\"1\" class=\"dataframe\">\n",
       "  <thead>\n",
       "    <tr style=\"text-align: right;\">\n",
       "      <th></th>\n",
       "      <th>0</th>\n",
       "      <th>1</th>\n",
       "      <th>2</th>\n",
       "      <th>3</th>\n",
       "    </tr>\n",
       "  </thead>\n",
       "  <tbody>\n",
       "    <tr>\n",
       "      <th>0</th>\n",
       "      <td>0.175267</td>\n",
       "      <td>-0.390353</td>\n",
       "      <td>0.528416</td>\n",
       "      <td>0.0</td>\n",
       "    </tr>\n",
       "    <tr>\n",
       "      <th>1</th>\n",
       "      <td>0.137719</td>\n",
       "      <td>-0.407678</td>\n",
       "      <td>0.564966</td>\n",
       "      <td>0.0</td>\n",
       "    </tr>\n",
       "    <tr>\n",
       "      <th>2</th>\n",
       "      <td>0.690481</td>\n",
       "      <td>0.835625</td>\n",
       "      <td>0.255321</td>\n",
       "      <td>0.0</td>\n",
       "    </tr>\n",
       "    <tr>\n",
       "      <th>3</th>\n",
       "      <td>-0.688863</td>\n",
       "      <td>0.683763</td>\n",
       "      <td>0.210390</td>\n",
       "      <td>0.0</td>\n",
       "    </tr>\n",
       "    <tr>\n",
       "      <th>4</th>\n",
       "      <td>-0.714677</td>\n",
       "      <td>0.671852</td>\n",
       "      <td>0.235518</td>\n",
       "      <td>0.0</td>\n",
       "    </tr>\n",
       "  </tbody>\n",
       "</table>\n",
       "</div>"
      ],
      "text/plain": [
       "          0         1         2    3\n",
       "0  0.175267 -0.390353  0.528416  0.0\n",
       "1  0.137719 -0.407678  0.564966  0.0\n",
       "2  0.690481  0.835625  0.255321  0.0\n",
       "3 -0.688863  0.683763  0.210390  0.0\n",
       "4 -0.714677  0.671852  0.235518  0.0"
      ]
     },
     "execution_count": 32,
     "metadata": {},
     "output_type": "execute_result"
    }
   ],
   "source": [
    "y.index = [i for i in range(len(y))]\n",
    "data_lda = pd.concat([X_lda, y], ignore_index=True, axis=1)\n",
    "data_lda.head()"
   ]
  },
  {
   "cell_type": "code",
   "execution_count": 33,
   "id": "c154213b-3a10-4439-b92a-3e4babe8b8b6",
   "metadata": {},
   "outputs": [
    {
     "data": {
      "text/plain": [
       "<seaborn.axisgrid.PairGrid at 0x7f412d4a2190>"
      ]
     },
     "execution_count": 33,
     "metadata": {},
     "output_type": "execute_result"
    },
    {
     "data": {
      "image/png": "[encoded data removed]",
      "text/plain": [
       "<Figure size 592x540 with 12 Axes>"
      ]
     },
     "metadata": {
      "needs_background": "light"
     },
     "output_type": "display_data"
    }
   ],
   "source": [
    "data_lda.columns =[f\"F{i}\" for i in range(len(data_lda.columns))]\n",
    "sns.pairplot(data_lda, hue='F3')"
   ]
  },
  {
   "cell_type": "code",
   "execution_count": 34,
   "id": "1684b8e2-275b-46bc-8621-69d3b60e29fc",
   "metadata": {},
   "outputs": [
    {
     "name": "stdout",
     "output_type": "stream",
     "text": [
      "(5000, 3)\n"
     ]
    },
    {
     "data": {
      "text/plain": [
       "(5000, 1)"
      ]
     },
     "execution_count": 34,
     "metadata": {},
     "output_type": "execute_result"
    }
   ],
   "source": [
    "from sklearn.feature_selection import mutual_info_classif\n",
    "from sklearn.feature_selection import SelectKBest\n",
    "from sklearn.feature_selection import VarianceThreshold\n",
    "\n",
    "variance_threshold = VarianceThreshold(threshold=(.8 * (1 - .8)))\n",
    "X_new = variance_threshold.fit_transform(pr_X)\n",
    "print(X_new.shape)\n",
    "k_best = SelectKBest(mutual_info_classif, k=X_new.shape[1] // 2)\n",
    "X_new = k_best.fit_transform(X_new, y)\n",
    "X_new.shape"
   ]
  },
  {
   "cell_type": "code",
   "execution_count": null,
   "id": "ed1c40ec-f6d5-4fc6-bd5f-248f6426bbe0",
   "metadata": {},
   "outputs": [],
   "source": []
  },
  {
   "cell_type": "markdown",
   "id": "6f29b6bd",
   "metadata": {},
   "source": [
    "## Model selection"
   ]
  },
  {
   "cell_type": "code",
   "execution_count": 35,
   "id": "b46a7532",
   "metadata": {},
   "outputs": [],
   "source": [
    "from sklearn.model_selection import train_test_split, cross_validate, StratifiedKFold\n",
    "from mlxtend.evaluate import lift_score\n",
    "\n",
    "from sklearn.linear_model import LogisticRegression\n",
    "from sklearn.neural_network import MLPClassifier\n",
    "from sklearn.neighbors import KNeighborsClassifier\n",
    "from sklearn.svm import SVC\n",
    "from sklearn.gaussian_process import GaussianProcessClassifier\n",
    "from sklearn.tree import DecisionTreeClassifier\n",
    "from sklearn.ensemble import RandomForestClassifier, AdaBoostClassifier\n",
    "from sklearn.naive_bayes import GaussianNB\n",
    "from sklearn.discriminant_analysis import QuadraticDiscriminantAnalysis\n",
    "from xgboost import XGBClassifier\n",
    "import joblib"
   ]
  },
  {
   "cell_type": "code",
   "execution_count": 36,
   "id": "8216e5f3",
   "metadata": {},
   "outputs": [],
   "source": [
    "classifiers = {\n",
    "    \"LogisticRegression\": LogisticRegression(),\n",
    "    'KNeighborsClassifier': KNeighborsClassifier(),\n",
    "    'DecisionTreeClassifier': DecisionTreeClassifier(),\n",
    "    'RandomForestClassifier': RandomForestClassifier(),\n",
    "    'MLPClassifier': MLPClassifier(),\n",
    "    'AdaBoostClassifier': AdaBoostClassifier(),\n",
    "    'GaussianNB': GaussianNB(),\n",
    "    'QuadraticDiscriminantAnalysis': QuadraticDiscriminantAnalysis(),\n",
    "    'XGBClassifier': XGBClassifier(),\n",
    "}"
   ]
  },
  {
   "cell_type": "code",
   "execution_count": 37,
   "id": "0bcb5a54",
   "metadata": {},
   "outputs": [],
   "source": [
    "from tqdm import tqdm\n",
    "from sklearn.metrics import make_scorer, roc_auc_score, accuracy_score\n",
    "\n",
    "cv = StratifiedKFold(n_splits=5, shuffle=True, random_state=seed)\n",
    "\n",
    "metrics = {\n",
    "    \"auc\": make_scorer(roc_auc_score),\n",
    "}\n",
    "\n",
    "def train(X, y, classifiers, cv=cv, metrics=metrics, verbose=0):\n",
    "    result = {}\n",
    "    for name, model in tqdm(classifiers.items()):\n",
    "        if verbose != 0:\n",
    "            print(name)\n",
    "        scores = cross_validate(model, X, y, cv=cv, scoring=metrics)\n",
    "        \n",
    "        auc = np.mean(scores[\"test_auc\"])\n",
    "        \n",
    "        result[name + \"_auc\"] = auc\n",
    "        \n",
    "        if verbose != 0:\n",
    "            print('On test: ')\n",
    "            print(f'{name}: AUC-ROC: {auc}')\n",
    "            print('-'*30)\n",
    "    return result"
   ]
  },
  {
   "cell_type": "code",
   "execution_count": 39,
   "id": "1a6a953c",
   "metadata": {},
   "outputs": [
    {
     "name": "stderr",
     "output_type": "stream",
     "text": [
      " 67%|██████▋   | 6/9 [00:06<00:03,  1.26s/it]"
     ]
    },
    {
     "name": "stdout",
     "output_type": "stream",
     "text": [
      "[12:24:37] WARNING: /tmp/build/80754af9/xgboost-split_1619724447847/work/src/learner.cc:1061: Starting in XGBoost 1.3.0, the default evaluation metric used with the objective 'binary:logistic' was changed from 'error' to 'logloss'. Explicitly set eval_metric if you'd like to restore the old behavior.\n",
      "[12:24:37] WARNING: /tmp/build/80754af9/xgboost-split_1619724447847/work/src/learner.cc:1061: Starting in XGBoost 1.3.0, the default evaluation metric used with the objective 'binary:logistic' was changed from 'error' to 'logloss'. Explicitly set eval_metric if you'd like to restore the old behavior.\n",
      "[12:24:37] WARNING: /tmp/build/80754af9/xgboost-split_1619724447847/work/src/learner.cc:1061: Starting in XGBoost 1.3.0, the default evaluation metric used with the objective 'binary:logistic' was changed from 'error' to 'logloss'. Explicitly set eval_metric if you'd like to restore the old behavior.\n"
     ]
    },
    {
     "name": "stderr",
     "output_type": "stream",
     "text": [
      "100%|██████████| 9/9 [00:06<00:00,  1.35it/s]\n",
      "  0%|          | 0/9 [00:00<?, ?it/s]"
     ]
    },
    {
     "name": "stdout",
     "output_type": "stream",
     "text": [
      "[12:24:37] WARNING: /tmp/build/80754af9/xgboost-split_1619724447847/work/src/learner.cc:1061: Starting in XGBoost 1.3.0, the default evaluation metric used with the objective 'binary:logistic' was changed from 'error' to 'logloss'. Explicitly set eval_metric if you'd like to restore the old behavior.\n",
      "[12:24:37] WARNING: /tmp/build/80754af9/xgboost-split_1619724447847/work/src/learner.cc:1061: Starting in XGBoost 1.3.0, the default evaluation metric used with the objective 'binary:logistic' was changed from 'error' to 'logloss'. Explicitly set eval_metric if you'd like to restore the old behavior.\n"
     ]
    },
    {
     "name": "stderr",
     "output_type": "stream",
     "text": [
      "100%|██████████| 9/9 [00:03<00:00,  2.59it/s]"
     ]
    },
    {
     "name": "stdout",
     "output_type": "stream",
     "text": [
      "[12:24:40] WARNING: /tmp/build/80754af9/xgboost-split_1619724447847/work/src/learner.cc:1061: Starting in XGBoost 1.3.0, the default evaluation metric used with the objective 'binary:logistic' was changed from 'error' to 'logloss'. Explicitly set eval_metric if you'd like to restore the old behavior.\n",
      "[12:24:40] WARNING: /tmp/build/80754af9/xgboost-split_1619724447847/work/src/learner.cc:1061: Starting in XGBoost 1.3.0, the default evaluation metric used with the objective 'binary:logistic' was changed from 'error' to 'logloss'. Explicitly set eval_metric if you'd like to restore the old behavior.\n",
      "[12:24:40] WARNING: /tmp/build/80754af9/xgboost-split_1619724447847/work/src/learner.cc:1061: Starting in XGBoost 1.3.0, the default evaluation metric used with the objective 'binary:logistic' was changed from 'error' to 'logloss'. Explicitly set eval_metric if you'd like to restore the old behavior.\n",
      "[12:24:40] WARNING: /tmp/build/80754af9/xgboost-split_1619724447847/work/src/learner.cc:1061: Starting in XGBoost 1.3.0, the default evaluation metric used with the objective 'binary:logistic' was changed from 'error' to 'logloss'. Explicitly set eval_metric if you'd like to restore the old behavior.\n",
      "[12:24:40] WARNING: /tmp/build/80754af9/xgboost-split_1619724447847/work/src/learner.cc:1061: Starting in XGBoost 1.3.0, the default evaluation metric used with the objective 'binary:logistic' was changed from 'error' to 'logloss'. Explicitly set eval_metric if you'd like to restore the old behavior.\n"
     ]
    },
    {
     "name": "stderr",
     "output_type": "stream",
     "text": [
      "\n"
     ]
    }
   ],
   "source": [
    "all_data = {\n",
    "    \"default\": pr_X,\n",
    "    \"sklearn\": X_new,\n",
    "}\n",
    "\n",
    "results = {}\n",
    "for key, current_X in all_data.items():\n",
    "    results[key] = train(current_X, y, classifiers)"
   ]
  },
  {
   "cell_type": "code",
   "execution_count": 40,
   "id": "30f1046a",
   "metadata": {},
   "outputs": [
    {
     "data": {
      "text/html": [
       "<div>\n",
       "<style scoped>\n",
       "    .dataframe tbody tr th:only-of-type {\n",
       "        vertical-align: middle;\n",
       "    }\n",
       "\n",
       "    .dataframe tbody tr th {\n",
       "        vertical-align: top;\n",
       "    }\n",
       "\n",
       "    .dataframe thead th {\n",
       "        text-align: right;\n",
       "    }\n",
       "</style>\n",
       "<table border=\"1\" class=\"dataframe\">\n",
       "  <thead>\n",
       "    <tr style=\"text-align: right;\">\n",
       "      <th></th>\n",
       "      <th>LogisticRegression_auc</th>\n",
       "      <th>KNeighborsClassifier_auc</th>\n",
       "      <th>DecisionTreeClassifier_auc</th>\n",
       "      <th>RandomForestClassifier_auc</th>\n",
       "      <th>MLPClassifier_auc</th>\n",
       "      <th>AdaBoostClassifier_auc</th>\n",
       "      <th>GaussianNB_auc</th>\n",
       "      <th>QuadraticDiscriminantAnalysis_auc</th>\n",
       "      <th>XGBClassifier_auc</th>\n",
       "    </tr>\n",
       "  </thead>\n",
       "  <tbody>\n",
       "    <tr>\n",
       "      <th>default</th>\n",
       "      <td>0.5</td>\n",
       "      <td>0.524213</td>\n",
       "      <td>0.516844</td>\n",
       "      <td>0.52135</td>\n",
       "      <td>0.499894</td>\n",
       "      <td>0.501589</td>\n",
       "      <td>0.5</td>\n",
       "      <td>0.499894</td>\n",
       "      <td>0.511841</td>\n",
       "    </tr>\n",
       "    <tr>\n",
       "      <th>sklearn</th>\n",
       "      <td>0.5</td>\n",
       "      <td>0.500000</td>\n",
       "      <td>0.500000</td>\n",
       "      <td>0.50000</td>\n",
       "      <td>0.500000</td>\n",
       "      <td>0.500000</td>\n",
       "      <td>0.5</td>\n",
       "      <td>0.500000</td>\n",
       "      <td>0.500000</td>\n",
       "    </tr>\n",
       "  </tbody>\n",
       "</table>\n",
       "</div>"
      ],
      "text/plain": [
       "         LogisticRegression_auc  KNeighborsClassifier_auc  \\\n",
       "default                     0.5                  0.524213   \n",
       "sklearn                     0.5                  0.500000   \n",
       "\n",
       "         DecisionTreeClassifier_auc  RandomForestClassifier_auc  \\\n",
       "default                    0.516844                     0.52135   \n",
       "sklearn                    0.500000                     0.50000   \n",
       "\n",
       "         MLPClassifier_auc  AdaBoostClassifier_auc  GaussianNB_auc  \\\n",
       "default           0.499894                0.501589             0.5   \n",
       "sklearn           0.500000                0.500000             0.5   \n",
       "\n",
       "         QuadraticDiscriminantAnalysis_auc  XGBClassifier_auc  \n",
       "default                           0.499894           0.511841  \n",
       "sklearn                           0.500000           0.500000  "
      ]
     },
     "execution_count": 40,
     "metadata": {},
     "output_type": "execute_result"
    }
   ],
   "source": [
    "result_table = pd.DataFrame.from_dict(results, orient='index')\n",
    "result_table"
   ]
  },
  {
   "cell_type": "code",
   "execution_count": 41,
   "id": "1e92f162",
   "metadata": {},
   "outputs": [
    {
     "data": {
      "text/plain": [
       "LogisticRegression_auc               0.500000\n",
       "KNeighborsClassifier_auc             0.524213\n",
       "DecisionTreeClassifier_auc           0.516844\n",
       "RandomForestClassifier_auc           0.521350\n",
       "MLPClassifier_auc                    0.500000\n",
       "AdaBoostClassifier_auc               0.501589\n",
       "GaussianNB_auc                       0.500000\n",
       "QuadraticDiscriminantAnalysis_auc    0.500000\n",
       "XGBClassifier_auc                    0.511841\n",
       "dtype: float64"
      ]
     },
     "execution_count": 41,
     "metadata": {},
     "output_type": "execute_result"
    }
   ],
   "source": [
    "# XGBClassifier дал наибольший результат\n",
    "result_table.max()"
   ]
  },
  {
   "cell_type": "code",
   "execution_count": 52,
   "id": "68271cb1-abaf-463c-a83d-6c3e77cad152",
   "metadata": {},
   "outputs": [],
   "source": [
    "X_train, X_test, y_train, y_test = train_test_split(data.drop('disease (target)', axis=1), data['disease (target)'], test_size=0.2, stratify=y, random_state=42)\n"
   ]
  },
  {
   "cell_type": "code",
   "execution_count": 53,
   "id": "69f9d064-fca8-4e2c-87ce-317b80d990b8",
   "metadata": {},
   "outputs": [
    {
     "data": {
      "text/plain": [
       "9"
      ]
     },
     "execution_count": 53,
     "metadata": {},
     "output_type": "execute_result"
    }
   ],
   "source": [
    "Ks = 10\n",
    "mean_acc = np.zeros((Ks-1))\n",
    "std_acc = np.zeros((Ks-1))\n",
    "ConfustionMx = [];\n",
    "for n in range(1,Ks):\n",
    "    \n",
    "    #Train Model and Predict  \n",
    "    neigh = KNeighborsClassifier(n_neighbors = n).fit(X_train, y_train)\n",
    "    yhat=neigh.predict(X_test)\n",
    "    mean_acc[n-1] = accuracy_score(y_test, yhat)\n",
    "\n",
    "    \n",
    "    std_acc[n-1]=np.std(yhat==y_test)/np.sqrt(yhat.shape[0])\n",
    "    \n",
    "np.argmax(mean_acc) + 1"
   ]
  },
  {
   "cell_type": "code",
   "execution_count": 54,
   "id": "b4e56539-1024-46c4-a87a-2ade1fec0ffb",
   "metadata": {},
   "outputs": [
    {
     "data": {
      "image/png": "[encoded data removed]",
      "text/plain": [
       "<Figure size 432x288 with 1 Axes>"
      ]
     },
     "metadata": {
      "needs_background": "light"
     },
     "output_type": "display_data"
    }
   ],
   "source": [
    "plt.plot(range(1,Ks),mean_acc,'g')\n",
    "plt.fill_between(range(1,Ks),mean_acc - 1 * std_acc,mean_acc + 1 * std_acc, alpha=0.10)\n",
    "plt.legend(('Accuracy ', '+/- 3xstd'))\n",
    "plt.ylabel('Accuracy ')\n",
    "plt.xlabel('Number of Nabors (K)')\n",
    "plt.tight_layout()\n",
    "plt.show()"
   ]
  },
  {
   "cell_type": "code",
   "execution_count": 55,
   "id": "0721b06c-0009-4011-92ce-919a77b48e7d",
   "metadata": {},
   "outputs": [],
   "source": [
    "neigh_best = KNeighborsClassifier(n_neighbors = 9).fit(X_train, y_train)\n",
    "yhat_best = neigh.predict(X_test)"
   ]
  },
  {
   "cell_type": "code",
   "execution_count": 56,
   "id": "19636e2b-c29b-484f-9a97-5f342082098e",
   "metadata": {},
   "outputs": [
    {
     "data": {
      "image/png": "[encoded data removed]",
      "text/plain": [
       "<Figure size 432x288 with 1 Axes>"
      ]
     },
     "metadata": {
      "needs_background": "light"
     },
     "output_type": "display_data"
    }
   ],
   "source": [
    "from sklearn.metrics import roc_curve\n",
    "\n",
    "y_pred_proba = neigh_best.predict_proba(pr_X)[::,1]\n",
    "fpr, tpr, _ = roc_curve(y,  y_pred_proba)\n",
    "auc = roc_auc_score(y, y_pred_proba)\n",
    "plt.plot(fpr,tpr,label=\"data 1, auc=\"+str(auc))\n",
    "plt.legend(loc=4)\n",
    "plt.show()"
   ]
  },
  {
   "cell_type": "code",
   "execution_count": null,
   "id": "20f548fb-f9c0-4e9f-a130-9883a46b5485",
   "metadata": {},
   "outputs": [],
   "source": []
  },
  {
   "cell_type": "code",
   "execution_count": null,
   "id": "4e9cae45-ea34-4eaa-8ea0-e028b5793e7e",
   "metadata": {},
   "outputs": [],
   "source": []
  },
  {
   "cell_type": "code",
   "execution_count": null,
   "id": "c3ab02c8-6cc6-4fd6-8992-ba23517912ee",
   "metadata": {},
   "outputs": [],
   "source": []
  },
  {
   "cell_type": "code",
   "execution_count": null,
   "id": "a6b05783-b8d5-4fcd-b7bb-8d6309069170",
   "metadata": {},
   "outputs": [],
   "source": []
  },
  {
   "cell_type": "code",
   "execution_count": null,
   "id": "1bc88c68-d0d4-4762-95d7-ca26b73a66cf",
   "metadata": {},
   "outputs": [],
   "source": []
  },
  {
   "cell_type": "code",
   "execution_count": null,
   "id": "8b986eb0-cf71-48fe-81f6-0b6d8d0b53b6",
   "metadata": {},
   "outputs": [],
   "source": []
  },
  {
   "cell_type": "code",
   "execution_count": null,
   "id": "14e547e0-a44f-4e4d-8797-e9126f8f4cd6",
   "metadata": {},
   "outputs": [],
   "source": []
  },
  {
   "cell_type": "code",
   "execution_count": null,
   "id": "076c3b54-0b4c-4cbe-84f2-ebf6c0c0c414",
   "metadata": {},
   "outputs": [],
   "source": []
  },
  {
   "cell_type": "code",
   "execution_count": null,
   "id": "4203a13c-88be-4e04-9afc-9dfc9adc375a",
   "metadata": {},
   "outputs": [],
   "source": []
  },
  {
   "cell_type": "code",
   "execution_count": null,
   "id": "62a54331-2763-46e1-9a1c-349db76f3e71",
   "metadata": {},
   "outputs": [],
   "source": []
  },
  {
   "cell_type": "code",
   "execution_count": null,
   "id": "6da5302d-08ad-4f2b-ac05-dfab20a9fe6e",
   "metadata": {},
   "outputs": [],
   "source": []
  },
  {
   "cell_type": "code",
   "execution_count": null,
   "id": "c32a9095-6ae2-4a34-8694-b6ae899ac05c",
   "metadata": {},
   "outputs": [],
   "source": []
  },
  {
   "cell_type": "code",
   "execution_count": null,
   "id": "0bfe1b19-4ff3-4c9f-97ef-5ad390804871",
   "metadata": {},
   "outputs": [],
   "source": []
  },
  {
   "cell_type": "code",
   "execution_count": 75,
   "id": "1f3aea34",
   "metadata": {},
   "outputs": [
    {
     "data": {
      "text/plain": [
       "default    0.50308\n",
       "Name: XGBClassifier_test_f1_macro, dtype: float64"
      ]
     },
     "execution_count": 75,
     "metadata": {},
     "output_type": "execute_result"
    }
   ],
   "source": [
    "# При дефолтных значениях\n",
    "f1_result['XGBClassifier_test_f1_macro']"
   ]
  },
  {
   "cell_type": "markdown",
   "id": "2b264a55",
   "metadata": {},
   "source": [
    "**Посмотрим на результаты lift**"
   ]
  },
  {
   "cell_type": "code",
   "execution_count": 43,
   "id": "4680bc6f",
   "metadata": {},
   "outputs": [
    {
     "data": {
      "text/html": [
       "<div>\n",
       "<style scoped>\n",
       "    .dataframe tbody tr th:only-of-type {\n",
       "        vertical-align: middle;\n",
       "    }\n",
       "\n",
       "    .dataframe tbody tr th {\n",
       "        vertical-align: top;\n",
       "    }\n",
       "\n",
       "    .dataframe thead th {\n",
       "        text-align: right;\n",
       "    }\n",
       "</style>\n",
       "<table border=\"1\" class=\"dataframe\">\n",
       "  <thead>\n",
       "    <tr style=\"text-align: right;\">\n",
       "      <th></th>\n",
       "      <th>LogisticRegression_test_lift</th>\n",
       "      <th>KNeighborsClassifier_test_lift</th>\n",
       "      <th>DecisionTreeClassifier_test_lift</th>\n",
       "      <th>RandomForestClassifier_test_lift</th>\n",
       "      <th>MLPClassifier_test_lift</th>\n",
       "      <th>AdaBoostClassifier_test_lift</th>\n",
       "      <th>GaussianNB_test_lift</th>\n",
       "      <th>QuadraticDiscriminantAnalysis_test_lift</th>\n",
       "      <th>XGBClassifier_test_lift</th>\n",
       "    </tr>\n",
       "  </thead>\n",
       "  <tbody>\n",
       "    <tr>\n",
       "      <th>default</th>\n",
       "      <td>1.584855</td>\n",
       "      <td>1.197958</td>\n",
       "      <td>1.186820</td>\n",
       "      <td>1.836000</td>\n",
       "      <td>1.294428</td>\n",
       "      <td>1.978951</td>\n",
       "      <td>1.133636</td>\n",
       "      <td>1.138368</td>\n",
       "      <td>1.753920</td>\n",
       "    </tr>\n",
       "    <tr>\n",
       "      <th>StandartScaled</th>\n",
       "      <td>2.042053</td>\n",
       "      <td>1.367562</td>\n",
       "      <td>1.193621</td>\n",
       "      <td>1.865336</td>\n",
       "      <td>1.288449</td>\n",
       "      <td>1.978951</td>\n",
       "      <td>1.146483</td>\n",
       "      <td>1.181402</td>\n",
       "      <td>1.750338</td>\n",
       "    </tr>\n",
       "    <tr>\n",
       "      <th>MinMaxScaled</th>\n",
       "      <td>1.923633</td>\n",
       "      <td>1.320056</td>\n",
       "      <td>1.180811</td>\n",
       "      <td>1.772075</td>\n",
       "      <td>1.445469</td>\n",
       "      <td>1.981393</td>\n",
       "      <td>1.146801</td>\n",
       "      <td>1.184762</td>\n",
       "      <td>1.736009</td>\n",
       "    </tr>\n",
       "    <tr>\n",
       "      <th>pca</th>\n",
       "      <td>NaN</td>\n",
       "      <td>1.135833</td>\n",
       "      <td>1.055401</td>\n",
       "      <td>1.200108</td>\n",
       "      <td>NaN</td>\n",
       "      <td>NaN</td>\n",
       "      <td>NaN</td>\n",
       "      <td>0.747453</td>\n",
       "      <td>1.163079</td>\n",
       "    </tr>\n",
       "    <tr>\n",
       "      <th>lda</th>\n",
       "      <td>NaN</td>\n",
       "      <td>1.135833</td>\n",
       "      <td>1.058903</td>\n",
       "      <td>1.211039</td>\n",
       "      <td>NaN</td>\n",
       "      <td>NaN</td>\n",
       "      <td>NaN</td>\n",
       "      <td>0.747453</td>\n",
       "      <td>1.163079</td>\n",
       "    </tr>\n",
       "    <tr>\n",
       "      <th>sklearn</th>\n",
       "      <td>1.174427</td>\n",
       "      <td>1.115555</td>\n",
       "      <td>1.126280</td>\n",
       "      <td>1.775594</td>\n",
       "      <td>1.178272</td>\n",
       "      <td>1.838902</td>\n",
       "      <td>1.229055</td>\n",
       "      <td>1.342646</td>\n",
       "      <td>1.659449</td>\n",
       "    </tr>\n",
       "  </tbody>\n",
       "</table>\n",
       "</div>"
      ],
      "text/plain": [
       "                LogisticRegression_test_lift  KNeighborsClassifier_test_lift  \\\n",
       "default                             1.584855                        1.197958   \n",
       "StandartScaled                      2.042053                        1.367562   \n",
       "MinMaxScaled                        1.923633                        1.320056   \n",
       "pca                                      NaN                        1.135833   \n",
       "lda                                      NaN                        1.135833   \n",
       "sklearn                             1.174427                        1.115555   \n",
       "\n",
       "                DecisionTreeClassifier_test_lift  \\\n",
       "default                                 1.186820   \n",
       "StandartScaled                          1.193621   \n",
       "MinMaxScaled                            1.180811   \n",
       "pca                                     1.055401   \n",
       "lda                                     1.058903   \n",
       "sklearn                                 1.126280   \n",
       "\n",
       "                RandomForestClassifier_test_lift  MLPClassifier_test_lift  \\\n",
       "default                                 1.836000                 1.294428   \n",
       "StandartScaled                          1.865336                 1.288449   \n",
       "MinMaxScaled                            1.772075                 1.445469   \n",
       "pca                                     1.200108                      NaN   \n",
       "lda                                     1.211039                      NaN   \n",
       "sklearn                                 1.775594                 1.178272   \n",
       "\n",
       "                AdaBoostClassifier_test_lift  GaussianNB_test_lift  \\\n",
       "default                             1.978951              1.133636   \n",
       "StandartScaled                      1.978951              1.146483   \n",
       "MinMaxScaled                        1.981393              1.146801   \n",
       "pca                                      NaN                   NaN   \n",
       "lda                                      NaN                   NaN   \n",
       "sklearn                             1.838902              1.229055   \n",
       "\n",
       "                QuadraticDiscriminantAnalysis_test_lift  \\\n",
       "default                                        1.138368   \n",
       "StandartScaled                                 1.181402   \n",
       "MinMaxScaled                                   1.184762   \n",
       "pca                                            0.747453   \n",
       "lda                                            0.747453   \n",
       "sklearn                                        1.342646   \n",
       "\n",
       "                XGBClassifier_test_lift  \n",
       "default                        1.753920  \n",
       "StandartScaled                 1.750338  \n",
       "MinMaxScaled                   1.736009  \n",
       "pca                            1.163079  \n",
       "lda                            1.163079  \n",
       "sklearn                        1.659449  "
      ]
     },
     "execution_count": 43,
     "metadata": {},
     "output_type": "execute_result"
    }
   ],
   "source": [
    "lift_columns_idx = list(map(lambda s: s.endswith('lift'), result_table.columns))\n",
    "lift_columns = result_table.columns[lift_columns_idx]\n",
    "lift_result = result_table[lift_columns]\n",
    "lift_result"
   ]
  },
  {
   "cell_type": "code",
   "execution_count": 44,
   "id": "fad4a36b",
   "metadata": {},
   "outputs": [
    {
     "data": {
      "text/plain": [
       "LogisticRegression_test_lift               2.042053\n",
       "KNeighborsClassifier_test_lift             1.367562\n",
       "DecisionTreeClassifier_test_lift           1.193621\n",
       "RandomForestClassifier_test_lift           1.865336\n",
       "MLPClassifier_test_lift                    1.445469\n",
       "AdaBoostClassifier_test_lift               1.981393\n",
       "GaussianNB_test_lift                       1.229055\n",
       "QuadraticDiscriminantAnalysis_test_lift    1.342646\n",
       "XGBClassifier_test_lift                    1.753920\n",
       "dtype: float64"
      ]
     },
     "execution_count": 44,
     "metadata": {},
     "output_type": "execute_result"
    }
   ],
   "source": [
    "lift_result.max()"
   ]
  },
  {
   "cell_type": "markdown",
   "id": "dc0072c6",
   "metadata": {},
   "source": [
    "**К сожалению, различные методы снижения размерности и выборки наиболее важных признаков\n",
    "привели к уменьшению точности у моделей. Кроме того, данные методы снижают интерпретируемость обработки данных и затрудняют восстановление признаков**\n",
    "\n",
    "**В качестве лучшей модели возьмем xgboost и не будем делать предобработку данных**"
   ]
  },
  {
   "cell_type": "markdown",
   "id": "c76353d9",
   "metadata": {},
   "source": [
    "**Так как за основу мы взяли XGBClassifier, то попробуем подобрать для него параметры**"
   ]
  },
  {
   "cell_type": "code",
   "execution_count": 72,
   "id": "6ef19e84",
   "metadata": {},
   "outputs": [
    {
     "name": "stdout",
     "output_type": "stream",
     "text": [
      "Fitting 5 folds for each of 10 candidates, totalling 50 fits\n",
      "[13:25:46] WARNING: /tmp/build/80754af9/xgboost-split_1619724447847/work/src/learner.cc:1061: Starting in XGBoost 1.3.0, the default evaluation metric used with the objective 'binary:logistic' was changed from 'error' to 'logloss'. Explicitly set eval_metric if you'd like to restore the old behavior.\n",
      "XGBClassifier(base_score=0.5, booster='gbtree', colsample_bylevel=1,\n",
      "              colsample_bynode=1, colsample_bytree=1, gamma=0, gpu_id=-1,\n",
      "              importance_type='cover', interaction_constraints='',\n",
      "              learning_rate=0.300000012, max_delta_step=0, max_depth=1,\n",
      "              min_child_weight=1, missing=nan, monotone_constraints='()',\n",
      "              n_estimators=24, n_jobs=8, num_parallel_tree=1, random_state=0,\n",
      "              reg_alpha=0, reg_lambda=1, scale_pos_weight=1, subsample=1,\n",
      "              tree_method='exact', validate_parameters=1, verbosity=None)\n",
      "0.7899073902840965\n"
     ]
    }
   ],
   "source": [
    "from sklearn.model_selection import RandomizedSearchCV\n",
    "\n",
    "\n",
    "dt = XGBClassifier()\n",
    "\n",
    "params = {\n",
    "    'n_estimators': range(10, 40),\n",
    "    'max_depth': range(1, 20),\n",
    "    'tree_method': ['exact', 'approx', 'hist'],\n",
    "    'importance_type': ['gain', 'weight','cover', 'total_gain', 'total_cover']\n",
    "}\n",
    "\n",
    "dt_random_search = RandomizedSearchCV(dt, params,\n",
    "                                      scoring='roc_auc',\n",
    "                                      n_jobs=3,\n",
    "                                      cv=cv,\n",
    "                                      random_state=seed,\n",
    "                                      verbose=1\n",
    "                                      )\n",
    "dt_random_search.fit(X_train, y_train)\n",
    "print(dt_random_search.best_estimator_)\n",
    "print(dt_random_search.best_score_)"
   ]
  },
  {
   "cell_type": "code",
   "execution_count": 60,
   "id": "2a775f13-fc92-44a3-a298-14721cc13968",
   "metadata": {},
   "outputs": [
    {
     "data": {
      "text/plain": [
       "['accuracy',\n",
       " 'adjusted_mutual_info_score',\n",
       " 'adjusted_rand_score',\n",
       " 'average_precision',\n",
       " 'balanced_accuracy',\n",
       " 'completeness_score',\n",
       " 'explained_variance',\n",
       " 'f1',\n",
       " 'f1_macro',\n",
       " 'f1_micro',\n",
       " 'f1_samples',\n",
       " 'f1_weighted',\n",
       " 'fowlkes_mallows_score',\n",
       " 'homogeneity_score',\n",
       " 'jaccard',\n",
       " 'jaccard_macro',\n",
       " 'jaccard_micro',\n",
       " 'jaccard_samples',\n",
       " 'jaccard_weighted',\n",
       " 'max_error',\n",
       " 'mutual_info_score',\n",
       " 'neg_brier_score',\n",
       " 'neg_log_loss',\n",
       " 'neg_mean_absolute_error',\n",
       " 'neg_mean_absolute_percentage_error',\n",
       " 'neg_mean_gamma_deviance',\n",
       " 'neg_mean_poisson_deviance',\n",
       " 'neg_mean_squared_error',\n",
       " 'neg_mean_squared_log_error',\n",
       " 'neg_median_absolute_error',\n",
       " 'neg_root_mean_squared_error',\n",
       " 'normalized_mutual_info_score',\n",
       " 'precision',\n",
       " 'precision_macro',\n",
       " 'precision_micro',\n",
       " 'precision_samples',\n",
       " 'precision_weighted',\n",
       " 'r2',\n",
       " 'rand_score',\n",
       " 'recall',\n",
       " 'recall_macro',\n",
       " 'recall_micro',\n",
       " 'recall_samples',\n",
       " 'recall_weighted',\n",
       " 'roc_auc',\n",
       " 'roc_auc_ovo',\n",
       " 'roc_auc_ovo_weighted',\n",
       " 'roc_auc_ovr',\n",
       " 'roc_auc_ovr_weighted',\n",
       " 'top_k_accuracy',\n",
       " 'v_measure_score']"
      ]
     },
     "execution_count": 60,
     "metadata": {},
     "output_type": "execute_result"
    }
   ],
   "source": [
    "import sklearn\n",
    "sorted(sklearn.metrics.SCORERS.keys())"
   ]
  },
  {
   "cell_type": "markdown",
   "id": "cf646d90",
   "metadata": {},
   "source": [
    "**Странно, получается, что с дефолтными параметрами у нас f1 выше)**"
   ]
  },
  {
   "cell_type": "code",
   "execution_count": 74,
   "id": "e78439e5",
   "metadata": {},
   "outputs": [
    {
     "name": "stdout",
     "output_type": "stream",
     "text": [
      "[13:27:28] WARNING: /tmp/build/80754af9/xgboost-split_1619724447847/work/src/learner.cc:1061: Starting in XGBoost 1.3.0, the default evaluation metric used with the objective 'binary:logistic' was changed from 'error' to 'logloss'. Explicitly set eval_metric if you'd like to restore the old behavior.\n"
     ]
    },
    {
     "data": {
      "text/plain": [
       "XGBClassifier(base_score=0.5, booster='gbtree', colsample_bylevel=1,\n",
       "              colsample_bynode=1, colsample_bytree=1, gamma=0, gpu_id=-1,\n",
       "              importance_type='cover', interaction_constraints='',\n",
       "              learning_rate=0.300000012, max_delta_step=0, max_depth=1,\n",
       "              min_child_weight=1, missing=nan, monotone_constraints='()',\n",
       "              n_estimators=24, n_jobs=8, num_parallel_tree=1, random_state=0,\n",
       "              reg_alpha=0, reg_lambda=1, scale_pos_weight=1, subsample=1,\n",
       "              tree_method='exact', validate_parameters=1, verbosity=None)"
      ]
     },
     "execution_count": 74,
     "metadata": {},
     "output_type": "execute_result"
    }
   ],
   "source": [
    "model = XGBClassifier(base_score=0.5, booster='gbtree', colsample_bylevel=1,\n",
    "              colsample_bynode=1, colsample_bytree=1, gamma=0, gpu_id=-1,\n",
    "              importance_type='cover', interaction_constraints='',\n",
    "              learning_rate=0.300000012, max_delta_step=0, max_depth=1,\n",
    "              min_child_weight=1, monotone_constraints='()',\n",
    "              n_estimators=24, n_jobs=8, num_parallel_tree=1, random_state=0,\n",
    "              reg_alpha=0, reg_lambda=1, scale_pos_weight=1, subsample=1,\n",
    "              tree_method='exact', validate_parameters=1, verbosity=None)\n",
    "model.fit(X_train, y_train)"
   ]
  },
  {
   "cell_type": "code",
   "execution_count": 77,
   "id": "a6fca1e5-bdfb-4b18-8325-5588802aaaf7",
   "metadata": {},
   "outputs": [
    {
     "data": {
      "image/png": "[encoded data removed]",
      "text/plain": [
       "<Figure size 432x288 with 1 Axes>"
      ]
     },
     "metadata": {
      "needs_background": "light"
     },
     "output_type": "display_data"
    }
   ],
   "source": [
    "from sklearn.metrics import roc_curve\n",
    "\n",
    "y_pred_proba = model.predict_proba(X_test)[::,1]\n",
    "fpr, tpr, _ = roc_curve(y_test,  y_pred_proba)\n",
    "auc = roc_auc_score(y_test, y_pred_proba)\n",
    "plt.plot(fpr,tpr,label=\"data 1, auc=\"+str(auc))\n",
    "plt.legend(loc=4)\n",
    "plt.show()"
   ]
  },
  {
   "cell_type": "code",
   "execution_count": null,
   "id": "5730a98d-4b6f-4821-8129-d534e09c0a29",
   "metadata": {},
   "outputs": [],
   "source": []
  },
  {
   "cell_type": "code",
   "execution_count": 79,
   "id": "a1fc09a1-7b0d-4608-917e-10e67e41eec7",
   "metadata": {},
   "outputs": [
    {
     "name": "stdout",
     "output_type": "stream",
     "text": [
      "Fitting 5 folds for each of 10 candidates, totalling 50 fits\n",
      "MLPClassifier(activation='tanh', alpha=0.08889000000000001,\n",
      "              learning_rate='adaptive', solver='lbfgs')\n",
      "0.7831143665033441\n"
     ]
    }
   ],
   "source": [
    "from sklearn.neural_network import MLPClassifier\n",
    "dt = MLPClassifier()\n",
    "\n",
    "params = {\n",
    "    'activation': ['identity', 'logistic', 'tanh', 'relu'],\n",
    "    'solver': ['lbfgs', 'sgd', 'adam'],\n",
    "    'alpha': np.linspace(1e-5, 0.1, 10),\n",
    "    'learning_rate': ['constant', 'invscaling', 'adaptive']\n",
    "}\n",
    "\n",
    "dt_random_search = RandomizedSearchCV(dt, params,\n",
    "                                      scoring='roc_auc',\n",
    "                                      n_jobs=5,\n",
    "                                      cv=cv,\n",
    "                                      random_state=seed,\n",
    "                                      verbose=1\n",
    "                                      )\n",
    "dt_random_search.fit(X_train, y_train)\n",
    "print(dt_random_search.best_estimator_)\n",
    "print(dt_random_search.best_score_)"
   ]
  },
  {
   "cell_type": "code",
   "execution_count": 80,
   "id": "78a259ca-bb88-42f5-aff6-707a5ae4684c",
   "metadata": {},
   "outputs": [
    {
     "data": {
      "text/plain": [
       "MLPClassifier(activation='tanh', alpha=0.08889000000000001,\n",
       "              learning_rate='adaptive', solver='lbfgs')"
      ]
     },
     "execution_count": 80,
     "metadata": {},
     "output_type": "execute_result"
    }
   ],
   "source": [
    "model = MLPClassifier(activation='tanh', alpha=0.08889000000000001,\n",
    "              learning_rate='adaptive', solver='lbfgs')\n",
    "model.fit(X_train, y_train)"
   ]
  },
  {
   "cell_type": "code",
   "execution_count": 81,
   "id": "27716af9-7595-4c0e-a383-f3ec0f35d82d",
   "metadata": {},
   "outputs": [
    {
     "data": {
      "image/png": "[encoded data removed]",
      "text/plain": [
       "<Figure size 432x288 with 1 Axes>"
      ]
     },
     "metadata": {
      "needs_background": "light"
     },
     "output_type": "display_data"
    }
   ],
   "source": [
    "from sklearn.metrics import roc_curve\n",
    "\n",
    "y_pred_proba = model.predict_proba(X_test)[::,1]\n",
    "fpr, tpr, _ = roc_curve(y_test,  y_pred_proba)\n",
    "auc = roc_auc_score(y_test, y_pred_proba)\n",
    "plt.plot(fpr,tpr,label=\"data 1, auc=\"+str(auc))\n",
    "plt.legend(loc=4)\n",
    "plt.show()"
   ]
  },
  {
   "cell_type": "code",
   "execution_count": null,
   "id": "c67f00cb-06c4-45ba-b74c-5977c9a8182a",
   "metadata": {},
   "outputs": [],
   "source": []
  },
  {
   "cell_type": "code",
   "execution_count": 104,
   "id": "f9f19fa3-08d0-4c11-afe4-46b922a89430",
   "metadata": {},
   "outputs": [
    {
     "data": {
      "text/html": [
       "<div>\n",
       "<style scoped>\n",
       "    .dataframe tbody tr th:only-of-type {\n",
       "        vertical-align: middle;\n",
       "    }\n",
       "\n",
       "    .dataframe tbody tr th {\n",
       "        vertical-align: top;\n",
       "    }\n",
       "\n",
       "    .dataframe thead th {\n",
       "        text-align: right;\n",
       "    }\n",
       "</style>\n",
       "<table border=\"1\" class=\"dataframe\">\n",
       "  <thead>\n",
       "    <tr style=\"text-align: right;\">\n",
       "      <th></th>\n",
       "      <th>age</th>\n",
       "      <th>sex</th>\n",
       "      <th>smoke</th>\n",
       "      <th>overweight</th>\n",
       "      <th>overall_risk</th>\n",
       "      <th>disease (target)</th>\n",
       "    </tr>\n",
       "  </thead>\n",
       "  <tbody>\n",
       "    <tr>\n",
       "      <th>0</th>\n",
       "      <td>40.0</td>\n",
       "      <td>0.0</td>\n",
       "      <td>1.0</td>\n",
       "      <td>0.0</td>\n",
       "      <td>0.056</td>\n",
       "      <td>0.0</td>\n",
       "    </tr>\n",
       "    <tr>\n",
       "      <th>1</th>\n",
       "      <td>40.0</td>\n",
       "      <td>1.0</td>\n",
       "      <td>1.0</td>\n",
       "      <td>0.0</td>\n",
       "      <td>0.063</td>\n",
       "      <td>0.0</td>\n",
       "    </tr>\n",
       "    <tr>\n",
       "      <th>2</th>\n",
       "      <td>60.0</td>\n",
       "      <td>0.0</td>\n",
       "      <td>0.0</td>\n",
       "      <td>0.0</td>\n",
       "      <td>0.097</td>\n",
       "      <td>0.0</td>\n",
       "    </tr>\n",
       "    <tr>\n",
       "      <th>3</th>\n",
       "      <td>53.0</td>\n",
       "      <td>0.0</td>\n",
       "      <td>0.0</td>\n",
       "      <td>0.0</td>\n",
       "      <td>0.056</td>\n",
       "      <td>1.0</td>\n",
       "    </tr>\n",
       "    <tr>\n",
       "      <th>4</th>\n",
       "      <td>47.0</td>\n",
       "      <td>0.0</td>\n",
       "      <td>0.0</td>\n",
       "      <td>0.0</td>\n",
       "      <td>0.056</td>\n",
       "      <td>0.0</td>\n",
       "    </tr>\n",
       "  </tbody>\n",
       "</table>\n",
       "</div>"
      ],
      "text/plain": [
       "    age  sex  smoke  overweight  overall_risk  disease (target)\n",
       "0  40.0  0.0    1.0         0.0         0.056               0.0\n",
       "1  40.0  1.0    1.0         0.0         0.063               0.0\n",
       "2  60.0  0.0    0.0         0.0         0.097               0.0\n",
       "3  53.0  0.0    0.0         0.0         0.056               1.0\n",
       "4  47.0  0.0    0.0         0.0         0.056               0.0"
      ]
     },
     "execution_count": 104,
     "metadata": {},
     "output_type": "execute_result"
    }
   ],
   "source": [
    "risks = pd.read_csv('hack_healthy_people/data_risk.csv')\n",
    "risks.head()"
   ]
  },
  {
   "cell_type": "code",
   "execution_count": 86,
   "id": "e289b530-ebce-485d-9c95-2b0c08ff3a09",
   "metadata": {},
   "outputs": [
    {
     "data": {
      "text/plain": [
       "3692    0.0\n",
       "2676    0.0\n",
       "549     0.0\n",
       "2868    0.0\n",
       "3060    1.0\n",
       "       ... \n",
       "631     0.0\n",
       "648     0.0\n",
       "2740    0.0\n",
       "4218    0.0\n",
       "1809    0.0\n",
       "Name: disease (target), Length: 1000, dtype: float64"
      ]
     },
     "execution_count": 86,
     "metadata": {},
     "output_type": "execute_result"
    }
   ],
   "source": [
    "y_test"
   ]
  },
  {
   "cell_type": "code",
   "execution_count": 85,
   "id": "8fe34be2-818c-43f4-b333-a4770500542c",
   "metadata": {},
   "outputs": [
    {
     "data": {
      "text/html": [
       "<div>\n",
       "<style scoped>\n",
       "    .dataframe tbody tr th:only-of-type {\n",
       "        vertical-align: middle;\n",
       "    }\n",
       "\n",
       "    .dataframe tbody tr th {\n",
       "        vertical-align: top;\n",
       "    }\n",
       "\n",
       "    .dataframe thead th {\n",
       "        text-align: right;\n",
       "    }\n",
       "</style>\n",
       "<table border=\"1\" class=\"dataframe\">\n",
       "  <thead>\n",
       "    <tr style=\"text-align: right;\">\n",
       "      <th></th>\n",
       "      <th>age</th>\n",
       "      <th>sex</th>\n",
       "      <th>smoke</th>\n",
       "      <th>overweight</th>\n",
       "    </tr>\n",
       "  </thead>\n",
       "  <tbody>\n",
       "    <tr>\n",
       "      <th>3692</th>\n",
       "      <td>58.0</td>\n",
       "      <td>0.0</td>\n",
       "      <td>0.0</td>\n",
       "      <td>1.0</td>\n",
       "    </tr>\n",
       "    <tr>\n",
       "      <th>2676</th>\n",
       "      <td>80.0</td>\n",
       "      <td>0.0</td>\n",
       "      <td>0.0</td>\n",
       "      <td>0.0</td>\n",
       "    </tr>\n",
       "    <tr>\n",
       "      <th>549</th>\n",
       "      <td>72.0</td>\n",
       "      <td>0.0</td>\n",
       "      <td>0.0</td>\n",
       "      <td>0.0</td>\n",
       "    </tr>\n",
       "    <tr>\n",
       "      <th>2868</th>\n",
       "      <td>41.0</td>\n",
       "      <td>1.0</td>\n",
       "      <td>0.0</td>\n",
       "      <td>0.0</td>\n",
       "    </tr>\n",
       "    <tr>\n",
       "      <th>3060</th>\n",
       "      <td>88.0</td>\n",
       "      <td>0.0</td>\n",
       "      <td>0.0</td>\n",
       "      <td>0.0</td>\n",
       "    </tr>\n",
       "    <tr>\n",
       "      <th>...</th>\n",
       "      <td>...</td>\n",
       "      <td>...</td>\n",
       "      <td>...</td>\n",
       "      <td>...</td>\n",
       "    </tr>\n",
       "    <tr>\n",
       "      <th>631</th>\n",
       "      <td>48.0</td>\n",
       "      <td>1.0</td>\n",
       "      <td>1.0</td>\n",
       "      <td>0.0</td>\n",
       "    </tr>\n",
       "    <tr>\n",
       "      <th>648</th>\n",
       "      <td>35.0</td>\n",
       "      <td>0.0</td>\n",
       "      <td>1.0</td>\n",
       "      <td>0.0</td>\n",
       "    </tr>\n",
       "    <tr>\n",
       "      <th>2740</th>\n",
       "      <td>57.0</td>\n",
       "      <td>1.0</td>\n",
       "      <td>1.0</td>\n",
       "      <td>0.0</td>\n",
       "    </tr>\n",
       "    <tr>\n",
       "      <th>4218</th>\n",
       "      <td>23.0</td>\n",
       "      <td>1.0</td>\n",
       "      <td>1.0</td>\n",
       "      <td>0.0</td>\n",
       "    </tr>\n",
       "    <tr>\n",
       "      <th>1809</th>\n",
       "      <td>36.0</td>\n",
       "      <td>1.0</td>\n",
       "      <td>1.0</td>\n",
       "      <td>1.0</td>\n",
       "    </tr>\n",
       "  </tbody>\n",
       "</table>\n",
       "<p>1000 rows × 4 columns</p>\n",
       "</div>"
      ],
      "text/plain": [
       "       age  sex  smoke  overweight\n",
       "3692  58.0  0.0    0.0         1.0\n",
       "2676  80.0  0.0    0.0         0.0\n",
       "549   72.0  0.0    0.0         0.0\n",
       "2868  41.0  1.0    0.0         0.0\n",
       "3060  88.0  0.0    0.0         0.0\n",
       "...    ...  ...    ...         ...\n",
       "631   48.0  1.0    1.0         0.0\n",
       "648   35.0  0.0    1.0         0.0\n",
       "2740  57.0  1.0    1.0         0.0\n",
       "4218  23.0  1.0    1.0         0.0\n",
       "1809  36.0  1.0    1.0         1.0\n",
       "\n",
       "[1000 rows x 4 columns]"
      ]
     },
     "execution_count": 85,
     "metadata": {},
     "output_type": "execute_result"
    }
   ],
   "source": [
    "X_test"
   ]
  },
  {
   "cell_type": "code",
   "execution_count": 92,
   "id": "b0d77b86-b57a-44d5-9bc7-38d77f2a0cb7",
   "metadata": {},
   "outputs": [
    {
     "data": {
      "text/plain": [
       "array([572, 767, 464, 540,  49,  78, 223, 447, 975, 775,  40, 255, 728,\n",
       "       526, 457, 996, 583,  34, 799, 258, 296, 518, 994, 212, 432, 272,\n",
       "       724, 382, 844,  66, 353, 956, 975, 795, 715, 482, 887, 936, 240,\n",
       "       936,  80, 263, 155, 933,  97, 100,   5, 161, 547, 481, 225, 758,\n",
       "        42, 254, 154, 468, 770, 655, 965, 751, 374, 646, 492, 605, 837,\n",
       "       683, 250, 101, 443, 343, 794, 776, 189, 195, 320, 821, 984, 564,\n",
       "       986, 311, 736, 873, 656, 515,  23, 206, 725, 129,   0, 680, 232,\n",
       "        44,  79, 838, 399, 143, 485, 328, 622, 894])"
      ]
     },
     "execution_count": 92,
     "metadata": {},
     "output_type": "execute_result"
    }
   ],
   "source": [
    "np.random.choice(np.where(y_test == 0)[0], 100)"
   ]
  },
  {
   "cell_type": "code",
   "execution_count": 93,
   "id": "8ff4c806-838f-4ba4-9a61-0c18c5849950",
   "metadata": {},
   "outputs": [
    {
     "data": {
      "text/plain": [
       "array([104, 515, 561, 575, 776, 635, 594,  26, 751, 177, 917, 751,  22,\n",
       "        98,  46, 579, 970, 579, 388, 415, 119, 485, 384,   6, 421, 504,\n",
       "       984, 370, 414, 635, 119, 321, 418, 660, 903, 525,  84,  58, 437,\n",
       "       537, 466, 341, 864, 532, 800,  18, 336, 584, 341, 426,  91, 379,\n",
       "        50, 319, 823, 157, 764, 996, 559, 774, 394, 220, 712, 731, 393,\n",
       "       395, 868, 271, 488, 680, 132, 607, 500, 261, 884, 621, 443, 814,\n",
       "       624, 776, 539, 679, 804, 293, 335, 357, 522, 466, 366, 290, 804,\n",
       "       182, 749, 338,   8, 285,  94, 644, 165,  14])"
      ]
     },
     "execution_count": 93,
     "metadata": {},
     "output_type": "execute_result"
    }
   ],
   "source": [
    "controls = np.random.choice(np.where(y_test == 0)[0], 100)\n",
    "controls"
   ]
  },
  {
   "cell_type": "code",
   "execution_count": 94,
   "id": "950938e7-2fa9-420e-a21f-b9a4d1788c9c",
   "metadata": {},
   "outputs": [
    {
     "data": {
      "text/plain": [
       "array([ 69, 260, 365, 111,  96, 445,  47, 886,  55, 833, 816, 732, 629,\n",
       "       707,  76, 886, 312, 323,   4,  30, 597, 629, 111, 567,  30,  25,\n",
       "       238, 198, 987, 717, 911, 732, 160, 365, 629, 304, 365, 198, 304,\n",
       "        76, 816, 260, 820, 658, 935, 111, 451, 260, 323, 508,  63,   4,\n",
       "       610, 330, 304, 365, 555,  63, 304, 109,  63, 922, 820, 658, 950,\n",
       "       365, 402, 658, 260,  96, 629, 727,   4, 312, 332, 260,   4,   4,\n",
       "       238, 323, 238,  76, 567, 658,  69,  25,  96, 707, 474,  62, 597,\n",
       "       923, 923,  30, 911, 332, 136, 312, 323, 732])"
      ]
     },
     "execution_count": 94,
     "metadata": {},
     "output_type": "execute_result"
    }
   ],
   "source": [
    "cases = np.random.choice(np.where(y_test == 1)[0], 100)\n",
    "cases"
   ]
  },
  {
   "cell_type": "code",
   "execution_count": 106,
   "id": "0c8edf07-96fe-44af-ab89-d743381b7512",
   "metadata": {},
   "outputs": [
    {
     "data": {
      "text/plain": [
       "104    0.006000\n",
       "515    0.006000\n",
       "561    0.063000\n",
       "575    0.063000\n",
       "776    0.037138\n",
       "         ...   \n",
       "285    0.006000\n",
       "94     0.056000\n",
       "644    0.003537\n",
       "165    0.056000\n",
       "14     0.006000\n",
       "Name: overall_risk, Length: 100, dtype: float64"
      ]
     },
     "execution_count": 106,
     "metadata": {},
     "output_type": "execute_result"
    }
   ],
   "source": [
    "risks['overall_risk'].iloc[controls]"
   ]
  },
  {
   "cell_type": "code",
   "execution_count": 107,
   "id": "6ad2650e-773c-40a6-aa3f-d34e72428d73",
   "metadata": {},
   "outputs": [
    {
     "data": {
      "text/plain": [
       "69     0.199000\n",
       "260    0.056000\n",
       "365    0.199000\n",
       "111    0.097000\n",
       "96     0.006000\n",
       "         ...   \n",
       "332    0.063000\n",
       "136    0.063000\n",
       "312    0.006000\n",
       "323    0.003537\n",
       "732    0.063000\n",
       "Name: overall_risk, Length: 100, dtype: float64"
      ]
     },
     "execution_count": 107,
     "metadata": {},
     "output_type": "execute_result"
    }
   ],
   "source": [
    "risks['overall_risk'].iloc[cases]"
   ]
  },
  {
   "cell_type": "code",
   "execution_count": null,
   "id": "68903aea-6586-4a39-8f49-433c19070fa4",
   "metadata": {},
   "outputs": [],
   "source": [
    "построить плот для 2-х % от рисков\n",
    "передвигать trashold и выводить auc кривую"
   ]
  },
  {
   "cell_type": "code",
   "execution_count": null,
   "id": "35fea23c-c253-4455-abf7-d668320869ee",
   "metadata": {},
   "outputs": [],
   "source": []
  },
  {
   "cell_type": "code",
   "execution_count": 109,
   "id": "b42413d2-cbf4-43b2-ab05-e44cc04003ca",
   "metadata": {},
   "outputs": [
    {
     "name": "stdout",
     "output_type": "stream",
     "text": [
      "[16:46:32] WARNING: /tmp/build/80754af9/xgboost-split_1619724447847/work/src/learner.cc:1061: Starting in XGBoost 1.3.0, the default evaluation metric used with the objective 'binary:logistic' was changed from 'error' to 'logloss'. Explicitly set eval_metric if you'd like to restore the old behavior.\n"
     ]
    },
    {
     "data": {
      "text/plain": [
       "XGBClassifier(base_score=0.5, booster='gbtree', colsample_bylevel=1,\n",
       "              colsample_bynode=1, colsample_bytree=1, gamma=0, gpu_id=-1,\n",
       "              importance_type='cover', interaction_constraints='',\n",
       "              learning_rate=0.300000012, max_delta_step=0, max_depth=1,\n",
       "              min_child_weight=1, missing=nan, monotone_constraints='()',\n",
       "              n_estimators=24, n_jobs=8, num_parallel_tree=1, random_state=0,\n",
       "              reg_alpha=0, reg_lambda=1, scale_pos_weight=1, subsample=1,\n",
       "              tree_method='exact', validate_parameters=1, verbosity=None)"
      ]
     },
     "execution_count": 109,
     "metadata": {},
     "output_type": "execute_result"
    }
   ],
   "source": [
    "model = XGBClassifier(base_score=0.5, booster='gbtree', colsample_bylevel=1,\n",
    "              colsample_bynode=1, colsample_bytree=1, gamma=0, gpu_id=-1,\n",
    "              importance_type='cover', interaction_constraints='',\n",
    "              learning_rate=0.300000012, max_delta_step=0, max_depth=1,\n",
    "              min_child_weight=1, monotone_constraints='()',\n",
    "              n_estimators=24, n_jobs=8, num_parallel_tree=1, random_state=0,\n",
    "              reg_alpha=0, reg_lambda=1, scale_pos_weight=1, subsample=1,\n",
    "              tree_method='exact', validate_parameters=1, verbosity=None)\n",
    "model.fit(X_train, y_train)"
   ]
  },
  {
   "cell_type": "code",
   "execution_count": 108,
   "id": "7c68c32a-d218-4775-84dc-0c0787740792",
   "metadata": {},
   "outputs": [
    {
     "data": {
      "text/plain": [
       "<AxesSubplot:xlabel='overall_risk', ylabel='Density'>"
      ]
     },
     "execution_count": 108,
     "metadata": {},
     "output_type": "execute_result"
    },
    {
     "data": {
      "image/png": "[encoded data removed]",
      "text/plain": [
       "<Figure size 432x288 with 1 Axes>"
      ]
     },
     "metadata": {
      "needs_background": "light"
     },
     "output_type": "display_data"
    }
   ],
   "source": [
    "import seaborn as sns\n",
    "\n",
    "sns.kdeplot(risks['overall_risk'].iloc[controls], c='b')\n",
    "sns.kdeplot(risks['overall_risk'].iloc[cases], c='r')"
   ]
  },
  {
   "cell_type": "code",
   "execution_count": null,
   "id": "1737283e-daa4-457d-bdd6-df1a8ce37768",
   "metadata": {},
   "outputs": [],
   "source": []
  },
  {
   "cell_type": "code",
   "execution_count": null,
   "id": "d28f1f1d-24e9-463c-974c-60653421801a",
   "metadata": {},
   "outputs": [],
   "source": []
  },
  {
   "cell_type": "code",
   "execution_count": null,
   "id": "c3e36d6e-597b-4517-9a38-1602cb33fe57",
   "metadata": {},
   "outputs": [],
   "source": []
  },
  {
   "cell_type": "code",
   "execution_count": null,
   "id": "2ea6580e-05b0-46c9-8b08-389ec94ea801",
   "metadata": {},
   "outputs": [],
   "source": []
  },
  {
   "cell_type": "code",
   "execution_count": null,
   "id": "762d1cc3-798a-4a4d-b2e5-ddd25049b37d",
   "metadata": {},
   "outputs": [],
   "source": []
  },
  {
   "cell_type": "code",
   "execution_count": null,
   "id": "fc34140d-fd5a-44a5-8026-e712ba1a2f9a",
   "metadata": {},
   "outputs": [],
   "source": []
  },
  {
   "cell_type": "code",
   "execution_count": null,
   "id": "58f4d8b2-2250-444f-9de2-fc3830102a9f",
   "metadata": {},
   "outputs": [],
   "source": []
  }
 ],
 "metadata": {
  "kernelspec": {
   "display_name": "Python 3",
   "language": "python",
   "name": "python3"
  },
  "language_info": {
   "codemirror_mode": {
    "name": "ipython",
    "version": 3
   },
   "file_extension": ".py",
   "mimetype": "text/x-python",
   "name": "python",
   "nbconvert_exporter": "python",
   "pygments_lexer": "ipython3",
   "version": "3.9.4"
  }
 },
 "nbformat": 4,
 "nbformat_minor": 5
}
